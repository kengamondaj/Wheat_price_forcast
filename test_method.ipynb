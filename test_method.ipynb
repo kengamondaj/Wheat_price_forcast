{
 "cells": [
  {
   "cell_type": "code",
   "execution_count": 1,
   "metadata": {},
   "outputs": [],
   "source": [
    "import numpy as np\n",
    "import pandas as pd\n",
    "import matplotlib.pyplot as plt\n",
    "import warnings\n",
    "warnings.filterwarnings('ignore')"
   ]
  },
  {
   "cell_type": "code",
   "execution_count": 2,
   "metadata": {},
   "outputs": [],
   "source": [
    "import pandas as pd\n",
    "import seaborn as sns\n",
    "import time\n",
    "import math\n",
    "from datetime import date\n",
    "from matplotlib import pyplot as plt\n",
    "from pylab import rcParams\n",
    "from sklearn.metrics import mean_squared_error\n",
    "from sklearn.preprocessing import StandardScaler\n",
    "from tqdm import tqdm_notebook\n",
    "from xgboost import XGBRegressor\n",
    "\n",
    "%matplotlib inline\n",
    "\n",
    "#### Input params ##################\n",
    "test_size = 0.2              # proportion of dataset to be used as test set\n",
    "cv_size = 0.2                  # proportion of dataset to be used as cross-validation set\n",
    "N = 3                       # for feature at day t, we use lags from t-1, t-2, ..., t-N as features\n",
    "\n",
    "n_estimators = 100             # Number of boosted trees to fit. default = 100\n",
    "max_depth = 3                  # Maximum tree depth for base learners. default = 3\n",
    "learning_rate = 0.1            # Boosting learning rate (xgb’s “eta”). default = 0.1\n",
    "min_child_weight = 1           # Minimum sum of instance weight(hessian) needed in a child. default = 1\n",
    "subsample = 1                  # Subsample ratio of the training instance. default = 1\n",
    "colsample_bytree = 1           # Subsample ratio of columns when constructing each tree. default = 1\n",
    "colsample_bylevel = 1          # Subsample ratio of columns for each split, in each level. default = 1\n",
    "gamma = 0                      # Minimum loss reduction required to make a further partition on a leaf node of the tree. default=0\n",
    "\n",
    "model_seed = 100\n",
    "\n",
    "fontsize = 14\n",
    "ticklabelsize = 14"
   ]
  },
  {
   "cell_type": "code",
   "execution_count": 3,
   "metadata": {},
   "outputs": [],
   "source": [
    "def get_mov_avg_std(df, col, N):\n",
    "    \"\"\"\n",
    "    Given a dataframe, get mean and std dev at timestep t using values from t-1, t-2, ..., t-N.\n",
    "    Inputs\n",
    "        df         : dataframe. Can be of any length.\n",
    "        col        : name of the column you want to calculate mean and std dev\n",
    "        N          : get mean and std dev at timestep t using values from t-1, t-2, ..., t-N\n",
    "    Outputs\n",
    "        df_out     : same as df but with additional column containing mean and std dev\n",
    "    \"\"\"\n",
    "    mean_list = df[col].rolling(window = N, min_periods=1).mean() # len(mean_list) = len(df)\n",
    "    std_list = df[col].rolling(window = N, min_periods=1).std()   # first value will be NaN, because normalized by N-1\n",
    "    \n",
    "    # Add one timestep to the predictions\n",
    "    mean_list = np.concatenate((np.array([np.nan]), np.array(mean_list[:-1])))\n",
    "    std_list = np.concatenate((np.array([np.nan]), np.array(std_list[:-1])))\n",
    "    \n",
    "    # Append mean_list to df\n",
    "    df_out = df.copy()\n",
    "    df_out[col + '_mean'+str(N)] = mean_list\n",
    "    df_out[col + '_std'+str(N)] = std_list\n",
    "    \n",
    "    return df_out\n",
    "\n",
    "def scale_row(row, feat_mean, feat_std):\n",
    "    \"\"\"\n",
    "    Given a pandas series in row, scale it to have 0 mean and var 1 using feat_mean and feat_std\n",
    "    Inputs\n",
    "        row      : pandas series. Need to scale this.\n",
    "        feat_mean: mean  \n",
    "        feat_std : standard deviation\n",
    "    Outputs\n",
    "        row_scaled : pandas series with same length as row, but scaled\n",
    "    \"\"\"\n",
    "    # If feat_std = 0 (this happens if adj_close doesn't change over N days), \n",
    "    # set it to a small number to avoid division by zero\n",
    "    feat_std = 0.001 if feat_std == 0 else feat_std\n",
    "    \n",
    "    row_scaled = (row-feat_mean) / feat_std\n",
    "    \n",
    "    return row_scaled\n",
    "\n",
    "def get_mape(y_true, y_pred): \n",
    "    \"\"\"\n",
    "    Compute mean absolute percentage error (MAPE)\n",
    "    \"\"\"\n",
    "    y_true, y_pred = np.array(y_true), np.array(y_pred)\n",
    "    return np.mean(np.abs((y_true - y_pred) / y_true)) * 100\n",
    "\n",
    "def train_pred_eval_model(X_train_scaled, \\\n",
    "                          y_train_scaled, \\\n",
    "                          X_test_scaled, \\\n",
    "                          y_test, \\\n",
    "                          col_mean, \\\n",
    "                          col_std, \\\n",
    "                          seed=100, \\\n",
    "                          n_estimators=100, \\\n",
    "                          max_depth=3, \\\n",
    "                          learning_rate=0.1, \\\n",
    "                          min_child_weight=1, \\\n",
    "                          subsample=1, \\\n",
    "                          colsample_bytree=1, \\\n",
    "                          colsample_bylevel=1, \\\n",
    "                          gamma=0):\n",
    "    '''\n",
    "    Train model, do prediction, scale back to original range and do evaluation\n",
    "    Use XGBoost here.\n",
    "    Inputs\n",
    "        X_train_scaled     : features for training. Scaled to have mean 0 and variance 1\n",
    "        y_train_scaled     : target for training. Scaled to have mean 0 and variance 1\n",
    "        X_test_scaled      : features for test. Each sample is scaled to mean 0 and variance 1\n",
    "        y_test             : target for test. Actual values, not scaled.\n",
    "        col_mean           : means used to scale each sample of X_test_scaled. Same length as X_test_scaled and y_test\n",
    "        col_std            : standard deviations used to scale each sample of X_test_scaled. Same length as X_test_scaled and y_test\n",
    "        seed               : model seed\n",
    "        n_estimators       : number of boosted trees to fit\n",
    "        max_depth          : maximum tree depth for base learners\n",
    "        learning_rate      : boosting learning rate (xgb’s “eta”)\n",
    "        min_child_weight   : minimum sum of instance weight(hessian) needed in a child\n",
    "        subsample          : subsample ratio of the training instance\n",
    "        colsample_bytree   : subsample ratio of columns when constructing each tree\n",
    "        colsample_bylevel  : subsample ratio of columns for each split, in each level\n",
    "        gamma              : \n",
    "    Outputs\n",
    "        rmse               : root mean square error of y_test and est\n",
    "        mape               : mean absolute percentage error of y_test and est\n",
    "        est                : predicted values. Same length as y_test\n",
    "    '''\n",
    "\n",
    "    model = XGBRegressor(seed=model_seed,\n",
    "                         n_estimators=n_estimators,\n",
    "                         max_depth=max_depth,\n",
    "                         learning_rate=learning_rate,\n",
    "                         min_child_weight=min_child_weight,\n",
    "                         subsample=subsample,\n",
    "                         colsample_bytree=colsample_bytree,\n",
    "                         colsample_bylevel=colsample_bylevel,\n",
    "                         gamma=gamma)\n",
    "    \n",
    "    # Train the model\n",
    "    model.fit(X_train_scaled, y_train_scaled)\n",
    "    \n",
    "    # Get predicted labels and scale back to original range\n",
    "    est_scaled = model.predict(X_test_scaled)\n",
    "    est = est_scaled * col_std + col_mean\n",
    "\n",
    "    # Calculate RMSE\n",
    "    rmse = math.sqrt(mean_squared_error(y_test, est))\n",
    "    mape = get_mape(y_test, est)\n",
    "    \n",
    "    return rmse, mape, est"
   ]
  },
  {
   "cell_type": "code",
   "execution_count": 4,
   "metadata": {},
   "outputs": [],
   "source": [
    "Final = pd.read_csv('data.csv',parse_dates = ['date'])"
   ]
  },
  {
   "cell_type": "code",
   "execution_count": 5,
   "metadata": {},
   "outputs": [
    {
     "data": {
      "text/html": [
       "<div>\n",
       "<style scoped>\n",
       "    .dataframe tbody tr th:only-of-type {\n",
       "        vertical-align: middle;\n",
       "    }\n",
       "\n",
       "    .dataframe tbody tr th {\n",
       "        vertical-align: top;\n",
       "    }\n",
       "\n",
       "    .dataframe thead th {\n",
       "        text-align: right;\n",
       "    }\n",
       "</style>\n",
       "<table border=\"1\" class=\"dataframe\">\n",
       "  <thead>\n",
       "    <tr style=\"text-align: right;\">\n",
       "      <th></th>\n",
       "      <th>Month</th>\n",
       "      <th>Price</th>\n",
       "      <th>Change</th>\n",
       "      <th>Production</th>\n",
       "      <th>year</th>\n",
       "      <th>Weather</th>\n",
       "      <th>oilPrice</th>\n",
       "      <th>date</th>\n",
       "      <th>goldPrice</th>\n",
       "    </tr>\n",
       "  </thead>\n",
       "  <tbody>\n",
       "    <tr>\n",
       "      <th>0</th>\n",
       "      <td>5</td>\n",
       "      <td>261.48</td>\n",
       "      <td>0.00</td>\n",
       "      <td>60117</td>\n",
       "      <td>2009</td>\n",
       "      <td>64.7</td>\n",
       "      <td>57.30</td>\n",
       "      <td>2009-05-01</td>\n",
       "      <td>926.855</td>\n",
       "    </tr>\n",
       "    <tr>\n",
       "      <th>1</th>\n",
       "      <td>6</td>\n",
       "      <td>256.64</td>\n",
       "      <td>-1.85</td>\n",
       "      <td>60117</td>\n",
       "      <td>2009</td>\n",
       "      <td>74.8</td>\n",
       "      <td>68.61</td>\n",
       "      <td>2009-06-01</td>\n",
       "      <td>947.807</td>\n",
       "    </tr>\n",
       "    <tr>\n",
       "      <th>2</th>\n",
       "      <td>7</td>\n",
       "      <td>224.85</td>\n",
       "      <td>-12.39</td>\n",
       "      <td>60117</td>\n",
       "      <td>2009</td>\n",
       "      <td>73.5</td>\n",
       "      <td>64.44</td>\n",
       "      <td>2009-07-01</td>\n",
       "      <td>934.272</td>\n",
       "    </tr>\n",
       "    <tr>\n",
       "      <th>3</th>\n",
       "      <td>8</td>\n",
       "      <td>210.37</td>\n",
       "      <td>-6.44</td>\n",
       "      <td>60117</td>\n",
       "      <td>2009</td>\n",
       "      <td>74.0</td>\n",
       "      <td>72.51</td>\n",
       "      <td>2009-08-01</td>\n",
       "      <td>949.500</td>\n",
       "    </tr>\n",
       "    <tr>\n",
       "      <th>4</th>\n",
       "      <td>9</td>\n",
       "      <td>191.09</td>\n",
       "      <td>-9.16</td>\n",
       "      <td>60117</td>\n",
       "      <td>2009</td>\n",
       "      <td>67.0</td>\n",
       "      <td>67.65</td>\n",
       "      <td>2009-09-01</td>\n",
       "      <td>996.443</td>\n",
       "    </tr>\n",
       "  </tbody>\n",
       "</table>\n",
       "</div>"
      ],
      "text/plain": [
       "   Month   Price  Change  Production  year  Weather  oilPrice       date  \\\n",
       "0      5  261.48    0.00       60117  2009     64.7     57.30 2009-05-01   \n",
       "1      6  256.64   -1.85       60117  2009     74.8     68.61 2009-06-01   \n",
       "2      7  224.85  -12.39       60117  2009     73.5     64.44 2009-07-01   \n",
       "3      8  210.37   -6.44       60117  2009     74.0     72.51 2009-08-01   \n",
       "4      9  191.09   -9.16       60117  2009     67.0     67.65 2009-09-01   \n",
       "\n",
       "   goldPrice  \n",
       "0    926.855  \n",
       "1    947.807  \n",
       "2    934.272  \n",
       "3    949.500  \n",
       "4    996.443  "
      ]
     },
     "execution_count": 5,
     "metadata": {},
     "output_type": "execute_result"
    }
   ],
   "source": [
    "Final.head()"
   ]
  },
  {
   "cell_type": "code",
   "execution_count": 6,
   "metadata": {},
   "outputs": [],
   "source": [
    "gold = Final[['date','Month','year','goldPrice']]\n",
    "gold = gold.rename(columns={\"goldPrice\": \"y\",'date':'ds'})\n",
    "wheat = Final[['date','Month','year','Price']]\n",
    "wheat = wheat.rename(columns={\"Price\": \"y\",'date':'ds'})\n",
    "oil = Final[['date','Month','year','oilPrice']]\n",
    "oil = oil.rename(columns={\"oilPrice\": \"y\",'date':'ds'})"
   ]
  },
  {
   "cell_type": "code",
   "execution_count": null,
   "metadata": {},
   "outputs": [],
   "source": [
    "wheat"
   ]
  },
  {
   "cell_type": "code",
   "execution_count": null,
   "metadata": {
    "scrolled": true
   },
   "outputs": [],
   "source": [
    "furniture = oil\n",
    "from fbprophet import Prophet\n",
    "# furniture = furniture.rename(columns={'Order Date': 'ds', 'Sales': 'y'})\n",
    "furniture_model = Prophet(interval_width=0.95)\n",
    "furniture_model.fit(furniture)\n",
    "furniture_forecast = furniture_model.make_future_dataframe(periods=36, freq='MS')\n",
    "furniture_forecast = furniture_model.predict(furniture_forecast)\n",
    "plt.figure(figsize=(18, 6))\n",
    "furniture_model.plot(furniture_forecast, xlabel = 'Date', ylabel = 'Sales')\n",
    "plt.title('Furniture Sales')"
   ]
  },
  {
   "cell_type": "code",
   "execution_count": 7,
   "metadata": {},
   "outputs": [
    {
     "data": {
      "text/plain": [
       "DatetimeIndex(['2009-05-01', '2009-06-01', '2009-07-01', '2009-08-01',\n",
       "               '2009-09-01', '2009-10-01', '2009-11-01', '2009-12-01',\n",
       "               '2010-01-01', '2010-02-01',\n",
       "               ...\n",
       "               '2018-07-01', '2018-08-01', '2018-09-01', '2018-10-01',\n",
       "               '2018-11-01', '2018-12-01', '2019-01-01', '2019-02-01',\n",
       "               '2019-03-01', '2019-04-01'],\n",
       "              dtype='datetime64[ns]', name='ds', length=120, freq=None)"
      ]
     },
     "execution_count": 7,
     "metadata": {},
     "output_type": "execute_result"
    }
   ],
   "source": [
    "y = wheat[['y','ds']]\n",
    "y = y.set_index('ds')\n",
    "y.index"
   ]
  },
  {
   "cell_type": "code",
   "execution_count": 8,
   "metadata": {},
   "outputs": [
    {
     "name": "stdout",
     "output_type": "stream",
     "text": [
      "Examples of parameter combinations for Seasonal ARIMA...\n",
      "SARIMAX: (0, 0, 1) x (0, 0, 1, 12)\n",
      "SARIMAX: (0, 0, 1) x (0, 1, 0, 12)\n",
      "SARIMAX: (0, 1, 0) x (0, 1, 1, 12)\n",
      "SARIMAX: (0, 1, 0) x (1, 0, 0, 12)\n"
     ]
    }
   ],
   "source": [
    "import itertools\n",
    "\n",
    "p = d = q = range(0, 2)\n",
    "pdq = list(itertools.product(p, d, q))\n",
    "seasonal_pdq = [(x[0], x[1], x[2], 12) for x in list(itertools.product(p, d, q))]\n",
    "print('Examples of parameter combinations for Seasonal ARIMA...')\n",
    "print('SARIMAX: {} x {}'.format(pdq[1], seasonal_pdq[1]))\n",
    "print('SARIMAX: {} x {}'.format(pdq[1], seasonal_pdq[2]))\n",
    "print('SARIMAX: {} x {}'.format(pdq[2], seasonal_pdq[3]))\n",
    "print('SARIMAX: {} x {}'.format(pdq[2], seasonal_pdq[4]))"
   ]
  },
  {
   "cell_type": "code",
   "execution_count": 9,
   "metadata": {},
   "outputs": [
    {
     "name": "stderr",
     "output_type": "stream",
     "text": [
      "/usr/local/lib/python3.7/site-packages/statsmodels/tsa/base/tsa_model.py:165: ValueWarning: No frequency information was provided, so inferred frequency MS will be used.\n",
      "  % freq, ValueWarning)\n",
      "/usr/local/lib/python3.7/site-packages/statsmodels/tsa/base/tsa_model.py:165: ValueWarning: No frequency information was provided, so inferred frequency MS will be used.\n",
      "  % freq, ValueWarning)\n",
      "/usr/local/lib/python3.7/site-packages/statsmodels/tsa/base/tsa_model.py:165: ValueWarning: No frequency information was provided, so inferred frequency MS will be used.\n",
      "  % freq, ValueWarning)\n",
      "/usr/local/lib/python3.7/site-packages/statsmodels/tsa/base/tsa_model.py:165: ValueWarning: No frequency information was provided, so inferred frequency MS will be used.\n",
      "  % freq, ValueWarning)\n",
      "/usr/local/lib/python3.7/site-packages/statsmodels/tsa/base/tsa_model.py:165: ValueWarning: No frequency information was provided, so inferred frequency MS will be used.\n",
      "  % freq, ValueWarning)\n"
     ]
    },
    {
     "name": "stdout",
     "output_type": "stream",
     "text": [
      "ARIMA(0, 0, 0)x(0, 0, 0, 12)12 - AIC:1436.181042732895\n",
      "ARIMA(0, 0, 0)x(0, 0, 1, 12)12 - AIC:1188.7361896917023\n",
      "ARIMA(0, 0, 0)x(0, 1, 0, 12)12 - AIC:1023.3989445067543\n",
      "ARIMA(0, 0, 0)x(0, 1, 1, 12)12 - AIC:865.9896096258752\n",
      "ARIMA(0, 0, 0)x(1, 0, 0, 12)12 - AIC:1034.0263990370377\n",
      "ARIMA(0, 0, 0)x(1, 0, 1, 12)12 - AIC:1023.8826264106824\n",
      "ARIMA(0, 0, 0)x(1, 1, 0, 12)12 - AIC:883.9651197319615\n"
     ]
    },
    {
     "name": "stderr",
     "output_type": "stream",
     "text": [
      "/usr/local/lib/python3.7/site-packages/statsmodels/tsa/base/tsa_model.py:165: ValueWarning: No frequency information was provided, so inferred frequency MS will be used.\n",
      "  % freq, ValueWarning)\n",
      "/usr/local/lib/python3.7/site-packages/statsmodels/tsa/base/tsa_model.py:165: ValueWarning: No frequency information was provided, so inferred frequency MS will be used.\n",
      "  % freq, ValueWarning)\n",
      "/usr/local/lib/python3.7/site-packages/statsmodels/tsa/base/tsa_model.py:165: ValueWarning: No frequency information was provided, so inferred frequency MS will be used.\n",
      "  % freq, ValueWarning)\n"
     ]
    },
    {
     "name": "stdout",
     "output_type": "stream",
     "text": [
      "ARIMA(0, 0, 0)x(1, 1, 1, 12)12 - AIC:846.2981947318025\n",
      "ARIMA(0, 0, 1)x(0, 0, 0, 12)12 - AIC:1289.796206379853\n"
     ]
    },
    {
     "name": "stderr",
     "output_type": "stream",
     "text": [
      "/usr/local/lib/python3.7/site-packages/statsmodels/tsa/base/tsa_model.py:165: ValueWarning: No frequency information was provided, so inferred frequency MS will be used.\n",
      "  % freq, ValueWarning)\n",
      "/usr/local/lib/python3.7/site-packages/statsmodels/tsa/base/tsa_model.py:165: ValueWarning: No frequency information was provided, so inferred frequency MS will be used.\n",
      "  % freq, ValueWarning)\n"
     ]
    },
    {
     "name": "stdout",
     "output_type": "stream",
     "text": [
      "ARIMA(0, 0, 1)x(0, 0, 1, 12)12 - AIC:1062.6987486499079\n",
      "ARIMA(0, 0, 1)x(0, 1, 0, 12)12 - AIC:923.7691170795688\n"
     ]
    },
    {
     "name": "stderr",
     "output_type": "stream",
     "text": [
      "/usr/local/lib/python3.7/site-packages/statsmodels/tsa/base/tsa_model.py:165: ValueWarning: No frequency information was provided, so inferred frequency MS will be used.\n",
      "  % freq, ValueWarning)\n",
      "/usr/local/lib/python3.7/site-packages/statsmodels/tsa/base/tsa_model.py:165: ValueWarning: No frequency information was provided, so inferred frequency MS will be used.\n",
      "  % freq, ValueWarning)\n"
     ]
    },
    {
     "name": "stdout",
     "output_type": "stream",
     "text": [
      "ARIMA(0, 0, 1)x(0, 1, 1, 12)12 - AIC:774.6273696373232\n",
      "ARIMA(0, 0, 1)x(1, 0, 0, 12)12 - AIC:944.99599396479\n"
     ]
    },
    {
     "name": "stderr",
     "output_type": "stream",
     "text": [
      "/usr/local/lib/python3.7/site-packages/statsmodels/tsa/base/tsa_model.py:165: ValueWarning: No frequency information was provided, so inferred frequency MS will be used.\n",
      "  % freq, ValueWarning)\n",
      "/usr/local/lib/python3.7/site-packages/statsmodels/tsa/base/tsa_model.py:165: ValueWarning: No frequency information was provided, so inferred frequency MS will be used.\n",
      "  % freq, ValueWarning)\n"
     ]
    },
    {
     "name": "stdout",
     "output_type": "stream",
     "text": [
      "ARIMA(0, 0, 1)x(1, 0, 1, 12)12 - AIC:923.485583905977\n"
     ]
    },
    {
     "name": "stderr",
     "output_type": "stream",
     "text": [
      "/usr/local/lib/python3.7/site-packages/statsmodels/tsa/base/tsa_model.py:165: ValueWarning: No frequency information was provided, so inferred frequency MS will be used.\n",
      "  % freq, ValueWarning)\n"
     ]
    },
    {
     "name": "stdout",
     "output_type": "stream",
     "text": [
      "ARIMA(0, 0, 1)x(1, 1, 0, 12)12 - AIC:807.925373510001\n"
     ]
    },
    {
     "name": "stderr",
     "output_type": "stream",
     "text": [
      "/usr/local/lib/python3.7/site-packages/statsmodels/tsa/base/tsa_model.py:165: ValueWarning: No frequency information was provided, so inferred frequency MS will be used.\n",
      "  % freq, ValueWarning)\n"
     ]
    },
    {
     "name": "stdout",
     "output_type": "stream",
     "text": [
      "ARIMA(0, 0, 1)x(1, 1, 1, 12)12 - AIC:776.6269962728254\n",
      "ARIMA(0, 1, 0)x(0, 0, 0, 12)12 - AIC:868.9568598047935\n",
      "ARIMA(0, 1, 0)x(0, 0, 1, 12)12 - AIC:771.1817956808446\n",
      "ARIMA(0, 1, 0)x(0, 1, 0, 12)12 - AIC:848.507680506317\n",
      "ARIMA(0, 1, 0)x(0, 1, 1, 12)12 - AIC:675.8423450211549\n"
     ]
    },
    {
     "name": "stderr",
     "output_type": "stream",
     "text": [
      "/usr/local/lib/python3.7/site-packages/statsmodels/tsa/base/tsa_model.py:165: ValueWarning: No frequency information was provided, so inferred frequency MS will be used.\n",
      "  % freq, ValueWarning)\n",
      "/usr/local/lib/python3.7/site-packages/statsmodels/tsa/base/tsa_model.py:165: ValueWarning: No frequency information was provided, so inferred frequency MS will be used.\n",
      "  % freq, ValueWarning)\n",
      "/usr/local/lib/python3.7/site-packages/statsmodels/tsa/base/tsa_model.py:165: ValueWarning: No frequency information was provided, so inferred frequency MS will be used.\n",
      "  % freq, ValueWarning)\n",
      "/usr/local/lib/python3.7/site-packages/statsmodels/tsa/base/tsa_model.py:165: ValueWarning: No frequency information was provided, so inferred frequency MS will be used.\n",
      "  % freq, ValueWarning)\n",
      "/usr/local/lib/python3.7/site-packages/statsmodels/tsa/base/tsa_model.py:165: ValueWarning: No frequency information was provided, so inferred frequency MS will be used.\n",
      "  % freq, ValueWarning)\n"
     ]
    },
    {
     "name": "stdout",
     "output_type": "stream",
     "text": [
      "ARIMA(0, 1, 0)x(1, 0, 0, 12)12 - AIC:778.4807198428883\n",
      "ARIMA(0, 1, 0)x(1, 0, 1, 12)12 - AIC:757.5765561428052\n",
      "ARIMA(0, 1, 0)x(1, 1, 0, 12)12 - AIC:698.322600856797\n"
     ]
    },
    {
     "name": "stderr",
     "output_type": "stream",
     "text": [
      "/usr/local/lib/python3.7/site-packages/statsmodels/tsa/base/tsa_model.py:165: ValueWarning: No frequency information was provided, so inferred frequency MS will be used.\n",
      "  % freq, ValueWarning)\n",
      "/usr/local/lib/python3.7/site-packages/statsmodels/tsa/base/tsa_model.py:165: ValueWarning: No frequency information was provided, so inferred frequency MS will be used.\n",
      "  % freq, ValueWarning)\n",
      "/usr/local/lib/python3.7/site-packages/statsmodels/tsa/base/tsa_model.py:165: ValueWarning: No frequency information was provided, so inferred frequency MS will be used.\n",
      "  % freq, ValueWarning)\n"
     ]
    },
    {
     "name": "stdout",
     "output_type": "stream",
     "text": [
      "ARIMA(0, 1, 0)x(1, 1, 1, 12)12 - AIC:690.2772145020315\n",
      "ARIMA(0, 1, 1)x(0, 0, 0, 12)12 - AIC:852.3107891530502\n",
      "ARIMA(0, 1, 1)x(0, 0, 1, 12)12 - AIC:752.4028561637987\n",
      "ARIMA(0, 1, 1)x(0, 1, 0, 12)12 - AIC:825.0919375333845\n"
     ]
    },
    {
     "name": "stderr",
     "output_type": "stream",
     "text": [
      "/usr/local/lib/python3.7/site-packages/statsmodels/tsa/base/tsa_model.py:165: ValueWarning: No frequency information was provided, so inferred frequency MS will be used.\n",
      "  % freq, ValueWarning)\n",
      "/usr/local/lib/python3.7/site-packages/statsmodels/tsa/base/tsa_model.py:165: ValueWarning: No frequency information was provided, so inferred frequency MS will be used.\n",
      "  % freq, ValueWarning)\n",
      "/usr/local/lib/python3.7/site-packages/statsmodels/tsa/base/tsa_model.py:165: ValueWarning: No frequency information was provided, so inferred frequency MS will be used.\n",
      "  % freq, ValueWarning)\n",
      "/usr/local/lib/python3.7/site-packages/statsmodels/tsa/base/tsa_model.py:165: ValueWarning: No frequency information was provided, so inferred frequency MS will be used.\n",
      "  % freq, ValueWarning)\n"
     ]
    },
    {
     "name": "stdout",
     "output_type": "stream",
     "text": [
      "ARIMA(0, 1, 1)x(0, 1, 1, 12)12 - AIC:666.5421988819971\n",
      "ARIMA(0, 1, 1)x(1, 0, 0, 12)12 - AIC:774.9683475640746\n",
      "ARIMA(0, 1, 1)x(1, 0, 1, 12)12 - AIC:748.557784917947\n"
     ]
    },
    {
     "name": "stderr",
     "output_type": "stream",
     "text": [
      "/usr/local/lib/python3.7/site-packages/statsmodels/tsa/base/tsa_model.py:165: ValueWarning: No frequency information was provided, so inferred frequency MS will be used.\n",
      "  % freq, ValueWarning)\n",
      "/usr/local/lib/python3.7/site-packages/statsmodels/tsa/base/tsa_model.py:165: ValueWarning: No frequency information was provided, so inferred frequency MS will be used.\n",
      "  % freq, ValueWarning)\n",
      "/usr/local/lib/python3.7/site-packages/statsmodels/tsa/base/tsa_model.py:165: ValueWarning: No frequency information was provided, so inferred frequency MS will be used.\n",
      "  % freq, ValueWarning)\n"
     ]
    },
    {
     "name": "stdout",
     "output_type": "stream",
     "text": [
      "ARIMA(0, 1, 1)x(1, 1, 0, 12)12 - AIC:695.0291038394046\n"
     ]
    },
    {
     "name": "stderr",
     "output_type": "stream",
     "text": [
      "/usr/local/lib/python3.7/site-packages/statsmodels/tsa/base/tsa_model.py:165: ValueWarning: No frequency information was provided, so inferred frequency MS will be used.\n",
      "  % freq, ValueWarning)\n"
     ]
    },
    {
     "name": "stdout",
     "output_type": "stream",
     "text": [
      "ARIMA(0, 1, 1)x(1, 1, 1, 12)12 - AIC:677.314725741145\n",
      "ARIMA(1, 0, 0)x(0, 0, 0, 12)12 - AIC:878.0033391593663\n",
      "ARIMA(1, 0, 0)x(0, 0, 1, 12)12 - AIC:782.4960070286606\n",
      "ARIMA(1, 0, 0)x(0, 1, 0, 12)12 - AIC:855.1601115571516\n"
     ]
    },
    {
     "name": "stderr",
     "output_type": "stream",
     "text": [
      "/usr/local/lib/python3.7/site-packages/statsmodels/tsa/base/tsa_model.py:165: ValueWarning: No frequency information was provided, so inferred frequency MS will be used.\n",
      "  % freq, ValueWarning)\n",
      "/usr/local/lib/python3.7/site-packages/statsmodels/tsa/base/tsa_model.py:165: ValueWarning: No frequency information was provided, so inferred frequency MS will be used.\n",
      "  % freq, ValueWarning)\n",
      "/usr/local/lib/python3.7/site-packages/statsmodels/tsa/base/tsa_model.py:165: ValueWarning: No frequency information was provided, so inferred frequency MS will be used.\n",
      "  % freq, ValueWarning)\n",
      "/usr/local/lib/python3.7/site-packages/statsmodels/base/model.py:512: ConvergenceWarning: Maximum Likelihood optimization failed to converge. Check mle_retvals\n",
      "  \"Check mle_retvals\", ConvergenceWarning)\n",
      "/usr/local/lib/python3.7/site-packages/statsmodels/tsa/base/tsa_model.py:165: ValueWarning: No frequency information was provided, so inferred frequency MS will be used.\n",
      "  % freq, ValueWarning)\n"
     ]
    },
    {
     "name": "stdout",
     "output_type": "stream",
     "text": [
      "ARIMA(1, 0, 0)x(0, 1, 1, 12)12 - AIC:684.0287904281789\n",
      "ARIMA(1, 0, 0)x(1, 0, 0, 12)12 - AIC:780.3695826177342\n"
     ]
    },
    {
     "name": "stderr",
     "output_type": "stream",
     "text": [
      "/usr/local/lib/python3.7/site-packages/statsmodels/tsa/base/tsa_model.py:165: ValueWarning: No frequency information was provided, so inferred frequency MS will be used.\n",
      "  % freq, ValueWarning)\n",
      "/usr/local/lib/python3.7/site-packages/statsmodels/tsa/base/tsa_model.py:165: ValueWarning: No frequency information was provided, so inferred frequency MS will be used.\n",
      "  % freq, ValueWarning)\n"
     ]
    },
    {
     "name": "stdout",
     "output_type": "stream",
     "text": [
      "ARIMA(1, 0, 0)x(1, 0, 1, 12)12 - AIC:783.8033068042793\n",
      "ARIMA(1, 0, 0)x(1, 1, 0, 12)12 - AIC:695.9652747318632\n"
     ]
    },
    {
     "name": "stderr",
     "output_type": "stream",
     "text": [
      "/usr/local/lib/python3.7/site-packages/statsmodels/tsa/base/tsa_model.py:165: ValueWarning: No frequency information was provided, so inferred frequency MS will be used.\n",
      "  % freq, ValueWarning)\n",
      "/usr/local/lib/python3.7/site-packages/statsmodels/tsa/base/tsa_model.py:165: ValueWarning: No frequency information was provided, so inferred frequency MS will be used.\n",
      "  % freq, ValueWarning)\n"
     ]
    },
    {
     "name": "stdout",
     "output_type": "stream",
     "text": [
      "ARIMA(1, 0, 0)x(1, 1, 1, 12)12 - AIC:696.4468025749555\n",
      "ARIMA(1, 0, 1)x(0, 0, 0, 12)12 - AIC:864.7995498977983\n"
     ]
    },
    {
     "name": "stderr",
     "output_type": "stream",
     "text": [
      "/usr/local/lib/python3.7/site-packages/statsmodels/tsa/base/tsa_model.py:165: ValueWarning: No frequency information was provided, so inferred frequency MS will be used.\n",
      "  % freq, ValueWarning)\n",
      "/usr/local/lib/python3.7/site-packages/statsmodels/tsa/base/tsa_model.py:165: ValueWarning: No frequency information was provided, so inferred frequency MS will be used.\n",
      "  % freq, ValueWarning)\n"
     ]
    },
    {
     "name": "stdout",
     "output_type": "stream",
     "text": [
      "ARIMA(1, 0, 1)x(0, 0, 1, 12)12 - AIC:766.8237884995903\n",
      "ARIMA(1, 0, 1)x(0, 1, 0, 12)12 - AIC:837.6706575352388\n"
     ]
    },
    {
     "name": "stderr",
     "output_type": "stream",
     "text": [
      "/usr/local/lib/python3.7/site-packages/statsmodels/tsa/base/tsa_model.py:165: ValueWarning: No frequency information was provided, so inferred frequency MS will be used.\n",
      "  % freq, ValueWarning)\n",
      "/usr/local/lib/python3.7/site-packages/statsmodels/tsa/base/tsa_model.py:165: ValueWarning: No frequency information was provided, so inferred frequency MS will be used.\n",
      "  % freq, ValueWarning)\n"
     ]
    },
    {
     "name": "stdout",
     "output_type": "stream",
     "text": [
      "ARIMA(1, 0, 1)x(0, 1, 1, 12)12 - AIC:675.5755089374679\n",
      "ARIMA(1, 0, 1)x(1, 0, 0, 12)12 - AIC:776.7772420533126\n"
     ]
    },
    {
     "name": "stderr",
     "output_type": "stream",
     "text": [
      "/usr/local/lib/python3.7/site-packages/statsmodels/tsa/base/tsa_model.py:165: ValueWarning: No frequency information was provided, so inferred frequency MS will be used.\n",
      "  % freq, ValueWarning)\n",
      "/usr/local/lib/python3.7/site-packages/statsmodels/tsa/base/tsa_model.py:165: ValueWarning: No frequency information was provided, so inferred frequency MS will be used.\n",
      "  % freq, ValueWarning)\n"
     ]
    },
    {
     "name": "stdout",
     "output_type": "stream",
     "text": [
      "ARIMA(1, 0, 1)x(1, 0, 1, 12)12 - AIC:764.9781163776639\n",
      "ARIMA(1, 0, 1)x(1, 1, 0, 12)12 - AIC:692.1051508951549\n"
     ]
    },
    {
     "name": "stderr",
     "output_type": "stream",
     "text": [
      "/usr/local/lib/python3.7/site-packages/statsmodels/tsa/base/tsa_model.py:165: ValueWarning: No frequency information was provided, so inferred frequency MS will be used.\n",
      "  % freq, ValueWarning)\n",
      "/usr/local/lib/python3.7/site-packages/statsmodels/tsa/base/tsa_model.py:165: ValueWarning: No frequency information was provided, so inferred frequency MS will be used.\n",
      "  % freq, ValueWarning)\n"
     ]
    },
    {
     "name": "stdout",
     "output_type": "stream",
     "text": [
      "ARIMA(1, 0, 1)x(1, 1, 1, 12)12 - AIC:685.1846366930014\n",
      "ARIMA(1, 1, 0)x(0, 0, 0, 12)12 - AIC:864.3121181064436\n",
      "ARIMA(1, 1, 0)x(0, 0, 1, 12)12 - AIC:768.2716661281298\n",
      "ARIMA(1, 1, 0)x(0, 1, 0, 12)12 - AIC:842.8916203969254\n"
     ]
    },
    {
     "name": "stderr",
     "output_type": "stream",
     "text": [
      "/usr/local/lib/python3.7/site-packages/statsmodels/tsa/base/tsa_model.py:165: ValueWarning: No frequency information was provided, so inferred frequency MS will be used.\n",
      "  % freq, ValueWarning)\n",
      "/usr/local/lib/python3.7/site-packages/statsmodels/tsa/base/tsa_model.py:165: ValueWarning: No frequency information was provided, so inferred frequency MS will be used.\n",
      "  % freq, ValueWarning)\n",
      "/usr/local/lib/python3.7/site-packages/statsmodels/tsa/base/tsa_model.py:165: ValueWarning: No frequency information was provided, so inferred frequency MS will be used.\n",
      "  % freq, ValueWarning)\n",
      "/usr/local/lib/python3.7/site-packages/statsmodels/tsa/base/tsa_model.py:165: ValueWarning: No frequency information was provided, so inferred frequency MS will be used.\n",
      "  % freq, ValueWarning)\n"
     ]
    },
    {
     "name": "stdout",
     "output_type": "stream",
     "text": [
      "ARIMA(1, 1, 0)x(0, 1, 1, 12)12 - AIC:675.5602770067118\n",
      "ARIMA(1, 1, 0)x(1, 0, 0, 12)12 - AIC:766.3960457949788\n"
     ]
    },
    {
     "name": "stderr",
     "output_type": "stream",
     "text": [
      "/usr/local/lib/python3.7/site-packages/statsmodels/tsa/base/tsa_model.py:165: ValueWarning: No frequency information was provided, so inferred frequency MS will be used.\n",
      "  % freq, ValueWarning)\n",
      "/usr/local/lib/python3.7/site-packages/statsmodels/tsa/base/tsa_model.py:165: ValueWarning: No frequency information was provided, so inferred frequency MS will be used.\n",
      "  % freq, ValueWarning)\n"
     ]
    },
    {
     "name": "stdout",
     "output_type": "stream",
     "text": [
      "ARIMA(1, 1, 0)x(1, 0, 1, 12)12 - AIC:758.1715032822017\n",
      "ARIMA(1, 1, 0)x(1, 1, 0, 12)12 - AIC:687.2102499282691\n"
     ]
    },
    {
     "name": "stderr",
     "output_type": "stream",
     "text": [
      "/usr/local/lib/python3.7/site-packages/statsmodels/tsa/base/tsa_model.py:165: ValueWarning: No frequency information was provided, so inferred frequency MS will be used.\n",
      "  % freq, ValueWarning)\n",
      "/usr/local/lib/python3.7/site-packages/statsmodels/tsa/base/tsa_model.py:165: ValueWarning: No frequency information was provided, so inferred frequency MS will be used.\n",
      "  % freq, ValueWarning)\n"
     ]
    },
    {
     "name": "stdout",
     "output_type": "stream",
     "text": [
      "ARIMA(1, 1, 0)x(1, 1, 1, 12)12 - AIC:687.560835608231\n",
      "ARIMA(1, 1, 1)x(0, 0, 0, 12)12 - AIC:854.3066402851597\n",
      "ARIMA(1, 1, 1)x(0, 0, 1, 12)12 - AIC:754.1907830332099\n",
      "ARIMA(1, 1, 1)x(0, 1, 0, 12)12 - AIC:826.7487608996959\n"
     ]
    },
    {
     "name": "stderr",
     "output_type": "stream",
     "text": [
      "/usr/local/lib/python3.7/site-packages/statsmodels/tsa/base/tsa_model.py:165: ValueWarning: No frequency information was provided, so inferred frequency MS will be used.\n",
      "  % freq, ValueWarning)\n",
      "/usr/local/lib/python3.7/site-packages/statsmodels/tsa/base/tsa_model.py:165: ValueWarning: No frequency information was provided, so inferred frequency MS will be used.\n",
      "  % freq, ValueWarning)\n",
      "/usr/local/lib/python3.7/site-packages/statsmodels/tsa/base/tsa_model.py:165: ValueWarning: No frequency information was provided, so inferred frequency MS will be used.\n",
      "  % freq, ValueWarning)\n",
      "/usr/local/lib/python3.7/site-packages/statsmodels/tsa/base/tsa_model.py:165: ValueWarning: No frequency information was provided, so inferred frequency MS will be used.\n",
      "  % freq, ValueWarning)\n"
     ]
    },
    {
     "name": "stdout",
     "output_type": "stream",
     "text": [
      "ARIMA(1, 1, 1)x(0, 1, 1, 12)12 - AIC:668.1656344205167\n",
      "ARIMA(1, 1, 1)x(1, 0, 0, 12)12 - AIC:766.2158593161882\n"
     ]
    },
    {
     "name": "stderr",
     "output_type": "stream",
     "text": [
      "/usr/local/lib/python3.7/site-packages/statsmodels/tsa/base/tsa_model.py:165: ValueWarning: No frequency information was provided, so inferred frequency MS will be used.\n",
      "  % freq, ValueWarning)\n",
      "/usr/local/lib/python3.7/site-packages/statsmodels/tsa/base/tsa_model.py:165: ValueWarning: No frequency information was provided, so inferred frequency MS will be used.\n",
      "  % freq, ValueWarning)\n"
     ]
    },
    {
     "name": "stdout",
     "output_type": "stream",
     "text": [
      "ARIMA(1, 1, 1)x(1, 0, 1, 12)12 - AIC:750.4329971331631\n",
      "ARIMA(1, 1, 1)x(1, 1, 0, 12)12 - AIC:688.6145356067847\n"
     ]
    },
    {
     "name": "stderr",
     "output_type": "stream",
     "text": [
      "/usr/local/lib/python3.7/site-packages/statsmodels/tsa/base/tsa_model.py:165: ValueWarning: No frequency information was provided, so inferred frequency MS will be used.\n",
      "  % freq, ValueWarning)\n",
      "/usr/local/lib/python3.7/site-packages/statsmodels/tsa/base/tsa_model.py:165: ValueWarning: No frequency information was provided, so inferred frequency MS will be used.\n",
      "  % freq, ValueWarning)\n"
     ]
    },
    {
     "name": "stdout",
     "output_type": "stream",
     "text": [
      "ARIMA(1, 1, 1)x(1, 1, 1, 12)12 - AIC:679.3100968936143\n"
     ]
    }
   ],
   "source": [
    "import statsmodels.api as sm\n",
    "results_list = []\n",
    "for param in pdq:\n",
    "    for param_seasonal in seasonal_pdq:\n",
    "        try:\n",
    "            mod = sm.tsa.statespace.SARIMAX(y[:'2017'],\n",
    "                                            order=param,\n",
    "                                            seasonal_order=param_seasonal,\n",
    "                                            enforce_stationarity=False,\n",
    "                                            enforce_invertibility=False)\n",
    "            results = mod.fit()\n",
    "            results_list.append((results.aic,param, param_seasonal))\n",
    "            print('ARIMA{}x{}12 - AIC:{}'.format(param, param_seasonal, results.aic))\n",
    "        except:\n",
    "            continue"
   ]
  },
  {
   "cell_type": "code",
   "execution_count": 10,
   "metadata": {},
   "outputs": [],
   "source": [
    "results_list = sorted(results_list)"
   ]
  },
  {
   "cell_type": "code",
   "execution_count": 11,
   "metadata": {},
   "outputs": [
    {
     "data": {
      "text/plain": [
       "(666.5421988819971, (0, 1, 1), (0, 1, 1, 12))"
      ]
     },
     "execution_count": 11,
     "metadata": {},
     "output_type": "execute_result"
    }
   ],
   "source": [
    "results_list[0]"
   ]
  },
  {
   "cell_type": "code",
   "execution_count": 12,
   "metadata": {
    "scrolled": true
   },
   "outputs": [
    {
     "data": {
      "text/plain": [
       "ds\n",
       "2009-05-01    261.48\n",
       "2009-06-01    256.64\n",
       "2009-07-01    224.85\n",
       "2009-08-01    210.37\n",
       "2009-09-01    191.09\n",
       "2009-10-01    198.85\n",
       "2009-11-01    211.04\n",
       "2009-12-01    206.25\n",
       "2010-01-01    201.19\n",
       "2010-02-01    194.00\n",
       "2010-03-01    191.08\n",
       "2010-04-01    192.87\n",
       "2010-05-01    181.61\n",
       "2010-06-01    157.67\n",
       "2010-07-01    195.82\n",
       "2010-08-01    246.25\n",
       "2010-09-01    271.67\n",
       "2010-10-01    270.23\n",
       "2010-11-01    274.08\n",
       "2010-12-01    306.52\n",
       "2011-01-01    326.56\n",
       "2011-02-01    348.12\n",
       "2011-03-01    316.75\n",
       "2011-04-01    336.12\n",
       "2011-05-01    355.28\n",
       "2011-06-01    326.43\n",
       "2011-07-01    303.88\n",
       "2011-08-01    327.07\n",
       "2011-09-01    315.92\n",
       "2011-10-01    289.01\n",
       "               ...  \n",
       "2016-11-01    150.65\n",
       "2016-12-01    141.83\n",
       "2017-01-01    153.22\n",
       "2017-02-01    155.06\n",
       "2017-03-01    154.32\n",
       "2017-04-01    166.08\n",
       "2017-05-01    180.41\n",
       "2017-06-01    189.60\n",
       "2017-07-01    202.46\n",
       "2017-08-01    171.23\n",
       "2017-09-01    178.57\n",
       "2017-10-01    175.63\n",
       "2017-11-01    179.68\n",
       "2017-12-01    184.09\n",
       "2018-01-01    192.17\n",
       "2018-02-01    192.17\n",
       "2018-03-01    192.17\n",
       "2018-04-01    213.85\n",
       "2018-05-01    213.85\n",
       "2018-06-01    219.36\n",
       "2018-07-01    218.26\n",
       "2018-08-01    236.63\n",
       "2018-09-01    212.38\n",
       "2018-10-01    213.48\n",
       "2018-11-01    203.56\n",
       "2018-12-01    211.28\n",
       "2019-01-01    209.81\n",
       "2019-02-01    218.99\n",
       "2019-03-01    205.76\n",
       "2019-04-01    199.52\n",
       "Freq: MS, Name: y, Length: 120, dtype: float64"
      ]
     },
     "execution_count": 12,
     "metadata": {},
     "output_type": "execute_result"
    }
   ],
   "source": [
    "y = y['y'].resample('MS').mean()\n",
    "y"
   ]
  },
  {
   "cell_type": "code",
   "execution_count": 27,
   "metadata": {},
   "outputs": [
    {
     "name": "stdout",
     "output_type": "stream",
     "text": [
      "==============================================================================\n",
      "                 coef    std err          z      P>|z|      [0.025      0.975]\n",
      "------------------------------------------------------------------------------\n",
      "ma.L1          0.2182      0.096      2.262      0.024       0.029       0.407\n",
      "ma.S.L12      -0.9028      0.278     -3.245      0.001      -1.448      -0.357\n",
      "sigma2       271.7607     65.624      4.141      0.000     143.140     400.382\n",
      "==============================================================================\n"
     ]
    }
   ],
   "source": [
    "mod = sm.tsa.statespace.SARIMAX(y[:'2017'],\n",
    "                                order=(0, 1, 1),\n",
    "                                seasonal_order=(0, 1, 1, 12),\n",
    "                                enforce_stationarity=False,\n",
    "                                enforce_invertibility=False)\n",
    "results = mod.fit()\n",
    "print(results.summary().tables[1])"
   ]
  },
  {
   "cell_type": "code",
   "execution_count": 28,
   "metadata": {},
   "outputs": [
    {
     "data": {
      "image/png": "[encoded data removed]",
      "text/plain": [
       "<Figure size 1152x576 with 4 Axes>"
      ]
     },
     "metadata": {
      "needs_background": "light"
     },
     "output_type": "display_data"
    }
   ],
   "source": [
    "results.plot_diagnostics(figsize=(16, 8))\n",
    "plt.show()"
   ]
  },
  {
   "cell_type": "code",
   "execution_count": 29,
   "metadata": {},
   "outputs": [
    {
     "data": {
      "image/png": "[encoded data removed]",
      "text/plain": [
       "<Figure size 1008x504 with 1 Axes>"
      ]
     },
     "metadata": {
      "needs_background": "light"
     },
     "output_type": "display_data"
    }
   ],
   "source": [
    "pred = results.get_prediction(start=pd.to_datetime('2017-01-01'), dynamic=False)\n",
    "pred_ci = pred.conf_int()\n",
    "ax = y['2009':].plot(label='observed')\n",
    "pred.predicted_mean.plot(ax=ax, label='One-step ahead Forecast', alpha=.7, figsize=(14, 7))\n",
    "ax.fill_between(pred_ci.index,\n",
    "                pred_ci.iloc[:, 0],\n",
    "                pred_ci.iloc[:, 1], color='k', alpha=.2)\n",
    "ax.set_xlabel('Date')\n",
    "ax.set_ylabel('Furniture Sales')\n",
    "plt.legend()\n",
    "plt.show()"
   ]
  },
  {
   "cell_type": "code",
   "execution_count": 30,
   "metadata": {},
   "outputs": [
    {
     "data": {
      "text/html": [
       "<div>\n",
       "<style scoped>\n",
       "    .dataframe tbody tr th:only-of-type {\n",
       "        vertical-align: middle;\n",
       "    }\n",
       "\n",
       "    .dataframe tbody tr th {\n",
       "        vertical-align: top;\n",
       "    }\n",
       "\n",
       "    .dataframe thead th {\n",
       "        text-align: right;\n",
       "    }\n",
       "</style>\n",
       "<table border=\"1\" class=\"dataframe\">\n",
       "  <thead>\n",
       "    <tr style=\"text-align: right;\">\n",
       "      <th></th>\n",
       "      <th>lower y</th>\n",
       "      <th>upper y</th>\n",
       "    </tr>\n",
       "    <tr>\n",
       "      <th>ds</th>\n",
       "      <th></th>\n",
       "      <th></th>\n",
       "    </tr>\n",
       "  </thead>\n",
       "  <tbody>\n",
       "    <tr>\n",
       "      <th>2017-01-01</th>\n",
       "      <td>102.528081</td>\n",
       "      <td>168.997614</td>\n",
       "    </tr>\n",
       "    <tr>\n",
       "      <th>2017-02-01</th>\n",
       "      <td>123.452160</td>\n",
       "      <td>189.921693</td>\n",
       "    </tr>\n",
       "    <tr>\n",
       "      <th>2017-03-01</th>\n",
       "      <td>120.756726</td>\n",
       "      <td>187.226259</td>\n",
       "    </tr>\n",
       "    <tr>\n",
       "      <th>2017-04-01</th>\n",
       "      <td>119.822488</td>\n",
       "      <td>186.292020</td>\n",
       "    </tr>\n",
       "    <tr>\n",
       "      <th>2017-05-01</th>\n",
       "      <td>135.801776</td>\n",
       "      <td>202.271294</td>\n",
       "    </tr>\n",
       "    <tr>\n",
       "      <th>2017-06-01</th>\n",
       "      <td>137.858324</td>\n",
       "      <td>204.307856</td>\n",
       "    </tr>\n",
       "    <tr>\n",
       "      <th>2017-07-01</th>\n",
       "      <td>157.657925</td>\n",
       "      <td>223.726183</td>\n",
       "    </tr>\n",
       "    <tr>\n",
       "      <th>2017-08-01</th>\n",
       "      <td>174.306053</td>\n",
       "      <td>240.356329</td>\n",
       "    </tr>\n",
       "    <tr>\n",
       "      <th>2017-09-01</th>\n",
       "      <td>127.171983</td>\n",
       "      <td>193.221403</td>\n",
       "    </tr>\n",
       "    <tr>\n",
       "      <th>2017-10-01</th>\n",
       "      <td>150.378067</td>\n",
       "      <td>216.427446</td>\n",
       "    </tr>\n",
       "    <tr>\n",
       "      <th>2017-11-01</th>\n",
       "      <td>141.915965</td>\n",
       "      <td>207.965342</td>\n",
       "    </tr>\n",
       "    <tr>\n",
       "      <th>2017-12-01</th>\n",
       "      <td>147.836297</td>\n",
       "      <td>213.885674</td>\n",
       "    </tr>\n",
       "  </tbody>\n",
       "</table>\n",
       "</div>"
      ],
      "text/plain": [
       "               lower y     upper y\n",
       "ds                                \n",
       "2017-01-01  102.528081  168.997614\n",
       "2017-02-01  123.452160  189.921693\n",
       "2017-03-01  120.756726  187.226259\n",
       "2017-04-01  119.822488  186.292020\n",
       "2017-05-01  135.801776  202.271294\n",
       "2017-06-01  137.858324  204.307856\n",
       "2017-07-01  157.657925  223.726183\n",
       "2017-08-01  174.306053  240.356329\n",
       "2017-09-01  127.171983  193.221403\n",
       "2017-10-01  150.378067  216.427446\n",
       "2017-11-01  141.915965  207.965342\n",
       "2017-12-01  147.836297  213.885674"
      ]
     },
     "execution_count": 30,
     "metadata": {},
     "output_type": "execute_result"
    }
   ],
   "source": [
    "pred_ci"
   ]
  },
  {
   "cell_type": "code",
   "execution_count": 31,
   "metadata": {},
   "outputs": [
    {
     "name": "stdout",
     "output_type": "stream",
     "text": [
      "The Mean Squared Error of our forecasts is 235.17\n",
      "The Root Mean Squared Error of our forecasts is 15.34\n"
     ]
    }
   ],
   "source": [
    "y_forecasted = pred.predicted_mean\n",
    "y_truth = y['2017-01-01':]\n",
    "mse = ((y_forecasted - y_truth) ** 2).mean()\n",
    "print('The Mean Squared Error of our forecasts is {}'.format(round(mse, 2)))\n",
    "\n",
    "print('The Root Mean Squared Error of our forecasts is {}'.format(round(np.sqrt(mse), 2)))"
   ]
  },
  {
   "cell_type": "code",
   "execution_count": 33,
   "metadata": {},
   "outputs": [
    {
     "data": {
      "image/png": "[encoded data removed]",
      "text/plain": [
       "<Figure size 1008x504 with 1 Axes>"
      ]
     },
     "metadata": {
      "needs_background": "light"
     },
     "output_type": "display_data"
    }
   ],
   "source": [
    "pred_uc = results.get_forecast(steps=15)\n",
    "pred_ci = pred_uc.conf_int()\n",
    "ax = y.plot(label='observed', figsize=(14, 7))\n",
    "pred_uc.predicted_mean.plot(ax=ax, label='Forecast')\n",
    "ax.fill_between(pred_ci.index,\n",
    "                pred_ci.iloc[:, 0],\n",
    "                pred_ci.iloc[:, 1], color='k', alpha=.25)\n",
    "ax.set_xlabel('Date')\n",
    "ax.set_ylabel('Furniture Sales')\n",
    "plt.legend()\n",
    "plt.show()"
   ]
  },
  {
   "cell_type": "code",
   "execution_count": null,
   "metadata": {},
   "outputs": [],
   "source": []
  },
  {
   "cell_type": "code",
   "execution_count": null,
   "metadata": {},
   "outputs": [],
   "source": []
  },
  {
   "cell_type": "code",
   "execution_count": null,
   "metadata": {},
   "outputs": [],
   "source": [
    "gold = get_mov_avg_std(gold,'goldPrice', 3)\n",
    "gold = get_mov_avg_std(gold,'goldPrice', 15)\n",
    "gold = get_mov_avg_std(gold,'goldPrice', 30)\n",
    "gold = gold.drop(columns=['goldPrice'])\n",
    "oil = get_mov_avg_std(oil,'oilPrice', 3)\n",
    "oil = get_mov_avg_std(oil,'oilPrice', 15)\n",
    "oil = get_mov_avg_std(oil,'oilPrice', 30)\n",
    "oil = oil.drop(columns=['oilPrice'])\n",
    "wheat = get_mov_avg_std(wheat,'wheatPrice', 3)\n",
    "oil.head()"
   ]
  },
  {
   "cell_type": "code",
   "execution_count": null,
   "metadata": {},
   "outputs": [],
   "source": [
    "gold.head()"
   ]
  },
  {
   "cell_type": "code",
   "execution_count": null,
   "metadata": {},
   "outputs": [],
   "source": [
    "wheat.head()"
   ]
  },
  {
   "cell_type": "code",
   "execution_count": null,
   "metadata": {},
   "outputs": [],
   "source": [
    "df = wheat\n",
    "# Add a column 'order_day' to indicate the order of the rows by date\n",
    "df['order_day'] = [x for x in list(range(len(df)))]\n",
    "# merging_keys\n",
    "merging_keys = ['order_day']\n",
    "# List of columns that we will use to create lags\n",
    "lag_cols = ['wheatPrice']\n",
    "\n",
    "shift_range = [x+1 for x in range(N)]\n",
    "\n",
    "for shift in tqdm_notebook(shift_range):\n",
    "    train_shift = df[merging_keys + lag_cols].copy()\n",
    "    \n",
    "    # E.g. order_day of 0 becomes 1, for shift = 1.\n",
    "    # So when this is merged with order_day of 1 in df, this will represent lag of 1.\n",
    "    train_shift['order_day'] = train_shift['order_day'] + shift\n",
    "    \n",
    "    foo = lambda x: '{}_lag_{}'.format(x, shift) if x in lag_cols else x\n",
    "    train_shift = train_shift.rename(columns=foo)\n",
    "\n",
    "    df = pd.merge(df, train_shift, on=merging_keys, how='left') #.fillna(0)\n",
    "    \n",
    "del train_shift\n",
    "\n",
    "# Remove the first N rows which contain NaNs\n",
    "df = df[N:]\n",
    "df = df.drop(columns=['order_day'])    \n",
    "wheat = df\n",
    "wheat.head()"
   ]
  },
  {
   "cell_type": "code",
   "execution_count": null,
   "metadata": {},
   "outputs": [],
   "source": [
    "df = pd.merge(wheat,gold, on=['date','Month','year'])\n",
    "df = pd.merge(df,oil, on=['date','Month','year'])\n",
    "df.head()"
   ]
  },
  {
   "cell_type": "code",
   "execution_count": null,
   "metadata": {},
   "outputs": [],
   "source": [
    "# Get sizes of each of the datasets\n",
    "num_cv = int(cv_size*len(df))\n",
    "num_test = int(test_size*len(df))\n",
    "num_train = len(df) - num_cv - num_test\n",
    "\n",
    "# Split into train, cv, and test\n",
    "train = df[:num_train]\n",
    "cv = df[num_train:num_train+num_cv]\n",
    "train_cv = df[:num_train+num_cv]\n",
    "test = df[num_train+num_cv:]\n",
    "print(\"train.shape = \" + str(train.shape))\n",
    "print(\"cv.shape = \" + str(cv.shape))\n",
    "print(\"train_cv.shape = \" + str(train_cv.shape))\n",
    "print(\"test.shape = \" + str(test.shape))\n",
    "train_cv.head()"
   ]
  },
  {
   "cell_type": "code",
   "execution_count": null,
   "metadata": {},
   "outputs": [],
   "source": [
    "train.columns"
   ]
  },
  {
   "cell_type": "code",
   "execution_count": null,
   "metadata": {},
   "outputs": [],
   "source": [
    "cols_to_scale = [\n",
    "       'Month','year','wheatPrice','wheatPrice_lag_1',\n",
    "       'wheatPrice_lag_2', 'wheatPrice_lag_3', 'goldPrice_mean3',\n",
    "       'goldPrice_std3', 'goldPrice_mean15', 'goldPrice_std15',\n",
    "       'goldPrice_mean30', 'goldPrice_std30', 'oilPrice_mean3',\n",
    "       'oilPrice_std3', 'oilPrice_mean15', 'oilPrice_std15', 'oilPrice_mean30',\n",
    "       'oilPrice_std30'\n",
    "]\n",
    "    \n",
    "# Do scaling for train set\n",
    "# Here we only scale the train dataset, and not the entire dataset to prevent information leak\n",
    "scaler = StandardScaler()\n",
    "train_scaled = scaler.fit_transform(train[cols_to_scale])\n",
    "print(\"scaler.mean_ = \" + str(scaler.mean_))\n",
    "print(\"scaler.var_ = \" + str(train_scaled.std(axis=0)))\n",
    "print(\"train_scaled.shape = \" + str(train_scaled.shape))\n",
    "\n",
    "# Convert the numpy array back into pandas dataframe\n",
    "train_scaled = pd.DataFrame(train_scaled, columns=cols_to_scale)\n",
    "train_scaled[['date']] = train.reset_index()[['date']]\n",
    "\n",
    "print(\"train_scaled.shape = \" + str(train_scaled.shape))\n",
    "train_scaled.head()"
   ]
  },
  {
   "cell_type": "code",
   "execution_count": null,
   "metadata": {},
   "outputs": [],
   "source": [
    "train_scaled.info()"
   ]
  },
  {
   "cell_type": "code",
   "execution_count": null,
   "metadata": {},
   "outputs": [],
   "source": [
    "# Do scaling for train+dev set\n",
    "scaler_train_cv = StandardScaler()\n",
    "train_cv_scaled = scaler_train_cv.fit_transform(train_cv[cols_to_scale])\n",
    "print(\"scaler_train_cv.mean_ = \" + str(scaler_train_cv.mean_))\n",
    "print(\"scaler_train_cv.var_ = \" + str(train_scaled.std(axis=0)))\n",
    "print(\"train_cv_scaled.shape = \" + str(train_cv_scaled.shape))\n",
    "\n",
    "# Convert the numpy array back into pandas dataframe\n",
    "train_cv_scaled = pd.DataFrame(train_cv_scaled, columns=cols_to_scale)\n",
    "train_cv_scaled[['date']] = train_cv.reset_index()[[ 'date']]\n",
    "print(\"train_cv_scaled.shape = \" + str(train_cv_scaled.shape))\n",
    "train_cv_scaled.head()"
   ]
  },
  {
   "cell_type": "code",
   "execution_count": null,
   "metadata": {},
   "outputs": [],
   "source": [
    "train_cv_scaled['goldPrice_std3'][-1:]"
   ]
  },
  {
   "cell_type": "code",
   "execution_count": null,
   "metadata": {},
   "outputs": [],
   "source": [
    "cv.info()"
   ]
  },
  {
   "cell_type": "code",
   "execution_count": null,
   "metadata": {},
   "outputs": [],
   "source": [
    "cv['wheatPrice_std3']"
   ]
  },
  {
   "cell_type": "code",
   "execution_count": null,
   "metadata": {
    "scrolled": false
   },
   "outputs": [],
   "source": [
    "cols_to_scale = [\n",
    "       'Month','year' ,'goldPrice_mean3',\n",
    "       'goldPrice_std3', 'goldPrice_mean15', 'goldPrice_std15',\n",
    "       'goldPrice_mean30', 'goldPrice_std30', 'oilPrice_mean3',\n",
    "       'oilPrice_std3', 'oilPrice_mean15', 'oilPrice_std15', 'oilPrice_mean30',\n",
    "       'oilPrice_std30'\n",
    "]\n",
    "# # Do scaling for dev set\n",
    "scaler_cv = StandardScaler()\n",
    "cv_scaled = scaler_cv.fit_transform(cv[cols_to_scale])\n",
    "\n",
    "# Convert the numpy array back into pandas datafram\n",
    "cv_scaled = pd.DataFrame(cv_scaled, columns=cols_to_scale)\n",
    "cv_scaled[['date','wheatPrice']] = cv.reset_index()[['date','wheatPrice']]\n",
    "\n",
    "print(\"cv_scaled.shape = \" + str(cv_scaled.shape))\n",
    "# Now the entire dev set is scaled\n",
    "cols_list = [\n",
    "    'wheatPrice'\n",
    "]\n",
    "# Do scaling for dev set\n",
    "temp2 = cv[['date']]\n",
    "for col in tqdm_notebook(cols_list):\n",
    "    feat_list = [col + '_lag_' + str(shift) for shift in range(1, N+1)]\n",
    "    temp = cv.apply(lambda row: scale_row(row[feat_list], row[col+'_mean3'], row[col+'_std3']), axis=1)\n",
    "    temp2 = pd.concat([temp2, temp], axis=1)\n",
    "    \n",
    "# Now the entire dev set is scaled\n",
    "print(cv_scaled.shape)\n",
    "cv_scaled = pd.merge(cv_scaled,temp2, on=['date'])\n",
    "cv_scaled.head()"
   ]
  },
  {
   "cell_type": "code",
   "execution_count": null,
   "metadata": {},
   "outputs": [],
   "source": [
    "# Do scaling for test set\n",
    "scaler_test= StandardScaler()\n",
    "test_scaled = scaler_test.fit_transform(test[cols_to_scale])\n",
    "\n",
    "# Convert the numpy array back into pandas dataframe\n",
    "test_scaled = pd.DataFrame(test_scaled, columns=cols_to_scale)\n",
    "test_scaled[['date','wheatPrice']] = test.reset_index()[['date','wheatPrice']]\n",
    "\n",
    "temp2 = test[['date']]\n",
    "for col in tqdm_notebook(cols_list):\n",
    "    feat_list = [col + '_lag_' + str(shift) for shift in range(1, N+1)]\n",
    "    temp = test.apply(lambda row: scale_row(row[feat_list], row[col+'_mean3'], row[col+'_std3']), axis=1)\n",
    "    temp2 = pd.concat([temp2, temp], axis=1)\n",
    "    \n",
    "\n",
    "print(\"test_scaled.shape = \" + str(test_scaled.shape))\n",
    "test_scaled = pd.merge(test_scaled,temp2, on=['date'])\n",
    "# Now the entire dev set is scaled\n",
    "test_scaled.head()"
   ]
  },
  {
   "cell_type": "code",
   "execution_count": null,
   "metadata": {},
   "outputs": [],
   "source": [
    "test_scaled.info()"
   ]
  },
  {
   "cell_type": "code",
   "execution_count": null,
   "metadata": {},
   "outputs": [],
   "source": [
    "train_cv_scaled.columns"
   ]
  },
  {
   "cell_type": "code",
   "execution_count": null,
   "metadata": {},
   "outputs": [],
   "source": [
    "temp = train_cv_scaled[[ 'goldPrice_mean3', 'goldPrice_std3',\n",
    "       'goldPrice_mean15', 'goldPrice_std15', 'goldPrice_mean30',\n",
    "       'goldPrice_std30', 'oilPrice_mean3', 'oilPrice_std3', 'oilPrice_mean15',\n",
    "       'oilPrice_std15', 'oilPrice_mean30', 'oilPrice_std30']].tail(1)\n",
    "temp2 = temp\n",
    "for i in range(14):\n",
    "    temp2 = pd.concat([temp2,temp])\n",
    "temp2 = temp2.reset_index()"
   ]
  },
  {
   "cell_type": "code",
   "execution_count": null,
   "metadata": {},
   "outputs": [],
   "source": [
    "test_new"
   ]
  },
  {
   "cell_type": "code",
   "execution_count": null,
   "metadata": {},
   "outputs": [],
   "source": [
    "test_scaled.columns"
   ]
  },
  {
   "cell_type": "code",
   "execution_count": null,
   "metadata": {},
   "outputs": [],
   "source": [
    "features = ['wheatPrice_lag_1', 'wheatPrice_lag_2',\n",
    "       'wheatPrice_lag_3', 'goldPrice_mean3', 'goldPrice_std3',\n",
    "       'goldPrice_mean15', 'goldPrice_std15', 'goldPrice_mean30',\n",
    "       'goldPrice_std30', 'oilPrice_mean3', 'oilPrice_std3', 'oilPrice_mean15',\n",
    "       'oilPrice_std15', 'oilPrice_mean30', 'oilPrice_std30']\n",
    "\n",
    "\n",
    "target = 'wheatPrice'\n",
    "\n",
    "\n",
    "# Split into X and y\n",
    "X_train = train[features]\n",
    "y_train = train[target]\n",
    "X_cv = cv[features]\n",
    "y_cv = cv[target]\n",
    "X_train_cv = train_cv[features]\n",
    "y_train_cv = train_cv[target]\n",
    "X_sample = test[features]\n",
    "y_sample = test[target]\n",
    "print(\"X_train.shape = \" + str(X_train.shape))\n",
    "print(\"y_train.shape = \" + str(y_train.shape))\n",
    "print(\"X_cv.shape = \" + str(X_cv.shape))\n",
    "print(\"y_cv.shape = \" + str(y_cv.shape))\n",
    "print(\"X_train_cv.shape = \" + str(X_train_cv.shape))\n",
    "print(\"y_train_cv.shape = \" + str(y_train_cv.shape))\n",
    "print(\"X_sample.shape = \" + str(X_sample.shape))\n",
    "print(\"y_sample.shape = \" + str(y_sample.shape))"
   ]
  },
  {
   "cell_type": "code",
   "execution_count": null,
   "metadata": {},
   "outputs": [],
   "source": [
    "# Split into X and y\n",
    "X_train_scaled = train_scaled[features]\n",
    "y_train_scaled = train_scaled[target]\n",
    "X_cv_scaled = cv_scaled[features]\n",
    "X_train_cv_scaled = train_cv_scaled[features]\n",
    "y_train_cv_scaled = train_cv_scaled[target]\n",
    "X_sample_scaled = test_scaled[features]\n",
    "print(\"X_train_scaled.shape = \" + str(X_train_scaled.shape))\n",
    "print(\"y_train_scaled.shape = \" + str(y_train_scaled.shape))\n",
    "print(\"X_cv_scaled.shape = \" + str(X_cv_scaled.shape))\n",
    "print(\"X_train_cv_scaled.shape = \" + str(X_train_cv_scaled.shape))\n",
    "print(\"y_train_cv_scaled.shape = \" + str(y_train_cv_scaled.shape))\n",
    "print(\"X_sample_scaled.shape = \" + str(X_sample_scaled.shape))"
   ]
  },
  {
   "cell_type": "code",
   "execution_count": null,
   "metadata": {},
   "outputs": [],
   "source": [
    "X_test_new"
   ]
  },
  {
   "cell_type": "code",
   "execution_count": null,
   "metadata": {},
   "outputs": [],
   "source": [
    "test_new = test_scaled.head(15)[['wheatPrice_lag_1','wheatPrice_lag_2','wheatPrice_lag_3']]\n",
    "test_new = pd.concat([test_new,temp2],axis = 1)\n",
    "X_test_new = test_new.drop('index',axis = 1)\n",
    "y_test_new = y_sample.head(15)\n",
    "y_test_new"
   ]
  },
  {
   "cell_type": "code",
   "execution_count": null,
   "metadata": {},
   "outputs": [],
   "source": [
    "X_cv_scaled.head()"
   ]
  },
  {
   "cell_type": "code",
   "execution_count": null,
   "metadata": {},
   "outputs": [],
   "source": [
    "X_train_scaled.head()"
   ]
  },
  {
   "cell_type": "code",
   "execution_count": null,
   "metadata": {},
   "outputs": [],
   "source": [
    "# Plot adjusted close over time\n",
    "rcParams['figure.figsize'] = 10, 8 # width 10, height 8\n",
    "\n",
    "ax = train.plot(x='date', y='wheatPrice', style='b-', grid=True)\n",
    "ax = cv.plot(x='date', y='wheatPrice', style='y-', grid=True, ax=ax)\n",
    "ax = test.plot(x='date', y='wheatPrice', style='g-', grid=True, ax=ax)\n",
    "ax.legend(['train', 'dev', 'test'])\n",
    "ax.set_xlabel(\"date\")\n",
    "ax.set_ylabel(\"USD\")\n",
    "ax.set_title(\"Without scaling\")"
   ]
  },
  {
   "cell_type": "code",
   "execution_count": null,
   "metadata": {},
   "outputs": [],
   "source": [
    "# Plot adjusted close over time\n",
    "rcParams['figure.figsize'] = 10, 8 # width 10, height 8\n",
    "\n",
    "ax = train_scaled.plot(x='date', y='wheatPrice_lag_1', style='b-', grid=True)\n",
    "ax = cv_scaled.plot(x='date', y='wheatPrice_lag_1', style='y-', grid=True, ax=ax)\n",
    "ax = test_scaled.plot(x='date', y='wheatPrice_lag_1', style='g-', grid=True, ax=ax)\n",
    "ax.legend(['train', 'dev', 'test'])\n",
    "ax.set_xlabel(\"date\")\n",
    "ax.set_ylabel(\"USD\")\n",
    "ax.set_title(\"Without scaling\")"
   ]
  },
  {
   "cell_type": "code",
   "execution_count": null,
   "metadata": {},
   "outputs": [],
   "source": [
    "# Plot adjusted close over time\n",
    "rcParams['figure.figsize'] = 10, 8 # width 10, height 8\n",
    "\n",
    "ax = train_scaled.plot(x='date', y='wheatPrice', style='b-', grid=True)\n",
    "ax.legend(['train_scaled'])\n",
    "ax.set_xlabel(\"date\")\n",
    "ax.set_ylabel(\"USD (scaled)\")\n",
    "ax.set_title(\"With scaling\")"
   ]
  },
  {
   "cell_type": "code",
   "execution_count": null,
   "metadata": {},
   "outputs": [],
   "source": [
    "# Create the model\n",
    "model = XGBRegressor(seed=model_seed,\n",
    "                     n_estimators=n_estimators,\n",
    "                     max_depth=max_depth,\n",
    "                     learning_rate=learning_rate,\n",
    "                     min_child_weight=min_child_weight,\n",
    "                     subsample=subsample,\n",
    "                     colsample_bytree=colsample_bytree,\n",
    "                     colsample_bylevel=colsample_bylevel,\n",
    "                     gamma=gamma)\n",
    "\n",
    "# Train the regressor\n",
    "model.fit(X_train_scaled, y_train_scaled)"
   ]
  },
  {
   "cell_type": "code",
   "execution_count": null,
   "metadata": {},
   "outputs": [],
   "source": [
    "train.columns"
   ]
  },
  {
   "cell_type": "code",
   "execution_count": null,
   "metadata": {},
   "outputs": [],
   "source": [
    "scaler.mean_"
   ]
  },
  {
   "cell_type": "code",
   "execution_count": null,
   "metadata": {},
   "outputs": [],
   "source": [
    "# Do prediction on train set\n",
    "est_scaled = model.predict(X_train_scaled)\n",
    "est = est_scaled * math.sqrt(scaler.var_[2]) + scaler.mean_[2]\n",
    "# Calculate RMSE\n",
    "print(\"RMSE on train set = %0.3f\" % math.sqrt(mean_squared_error(y_train, est)))\n",
    "# Calculate MAPE\n",
    "print(\"MAPE on train set = %0.3f%%\" % get_mape(y_train, est))"
   ]
  },
  {
   "cell_type": "code",
   "execution_count": null,
   "metadata": {},
   "outputs": [],
   "source": [
    "# Plot adjusted close over time\n",
    "rcParams['figure.figsize'] = 10, 8 # width 10, height 8\n",
    "\n",
    "est_df = pd.DataFrame({'est': est, \n",
    "                       'date': train['date']})\n",
    "\n",
    "ax = train.plot(x='date', y='wheatPrice', style='b-', grid=True)\n",
    "ax = cv.plot(x='date', y='wheatPrice', style='y-', grid=True, ax=ax)\n",
    "ax = test.plot(x='date', y='wheatPrice', style='g-', grid=True, ax=ax)\n",
    "ax = est_df.plot(x='date', y='est', style='r-', grid=True, ax=ax)\n",
    "ax.legend(['train', 'dev', 'test', 'predictions'])\n",
    "ax.set_xlabel(\"date\")\n",
    "ax.set_ylabel(\"USD\")\n",
    "ax.set_title('Without scaling')"
   ]
  },
  {
   "cell_type": "code",
   "execution_count": null,
   "metadata": {},
   "outputs": [],
   "source": [
    "est_scaled"
   ]
  },
  {
   "cell_type": "code",
   "execution_count": null,
   "metadata": {},
   "outputs": [],
   "source": [
    "\n",
    "# Do prediction on test set\n",
    "est_scaled = model.predict(X_cv_scaled)\n",
    "cv['est_scaled'] = est_scaled\n",
    "cv['est'] = cv['est_scaled'] * cv['wheatPrice_std3'] + cv['wheatPrice_mean3']\n",
    "\n",
    "# Calculate RMSE\n",
    "rmse_bef_tuning = math.sqrt(mean_squared_error(y_cv, cv['est']))\n",
    "print(\"RMSE on dev set = %0.3f\" % rmse_bef_tuning)\n",
    "\n",
    "# Calculate MAPE\n",
    "mape_bef_tuning = get_mape(y_cv, cv['est'])\n",
    "print(\"MAPE on dev set = %0.3f%%\" % mape_bef_tuning)\n",
    "# Plot adjusted close over time\n",
    "rcParams['figure.figsize'] = 10, 8 # width 10, height 8\n",
    "\n",
    "est_df = pd.DataFrame({'est': cv['est'], \n",
    "                       'y_cv': y_cv,\n",
    "                       'date': cv['date']})\n",
    "\n",
    "ax = train.plot(x='date', y='wheatPrice', style='b-', grid=True)\n",
    "ax = cv.plot(x='date', y='wheatPrice', style='y-', grid=True, ax=ax)\n",
    "ax = test.plot(x='date', y='wheatPrice', style='g-', grid=True, ax=ax)\n",
    "ax = est_df.plot(x='date', y='est', style='r-', grid=True, ax=ax)\n",
    "ax.legend(['train', 'dev', 'test', 'predictions'])\n",
    "ax.set_xlabel(\"date\")\n",
    "ax.set_ylabel(\"USD\")"
   ]
  },
  {
   "cell_type": "code",
   "execution_count": null,
   "metadata": {},
   "outputs": [],
   "source": [
    "# Plot adjusted close over time, for dev set only\n",
    "rcParams['figure.figsize'] = 10, 8 # width 10, height 8\n",
    "ax = train.plot(x='date', y='wheatPrice', style='b-', grid=True)\n",
    "ax = cv.plot(x='date', y='wheatPrice', style='y-', grid=True, ax=ax)\n",
    "ax = test.plot(x='date', y='wheatPrice', style='g-', grid=True, ax=ax)\n",
    "ax = est_df.plot(x='date', y='est', style='r-', grid=True, ax=ax)\n",
    "ax.legend(['train', 'dev', 'test', 'predictions'])\n",
    "ax.set_xlabel(\"date\")\n",
    "ax.set_ylabel(\"USD\")\n",
    "ax.set_xlim([date(2015, 1, 1), date(2017, 11, 1)])\n",
    "ax.set_title(\"Zoom in to dev set\")"
   ]
  },
  {
   "cell_type": "markdown",
   "metadata": {},
   "source": [
    "# Features importance"
   ]
  },
  {
   "cell_type": "code",
   "execution_count": null,
   "metadata": {
    "scrolled": true
   },
   "outputs": [],
   "source": [
    "# View a list of the features and their importance scores\n",
    "imp = list(zip(train[features], model.feature_importances_))\n",
    "imp.sort(key=lambda tup: tup[1]) \n",
    "imp[-10:]"
   ]
  },
  {
   "cell_type": "code",
   "execution_count": null,
   "metadata": {
    "scrolled": true
   },
   "outputs": [],
   "source": [
    "param_label = 'n_estimators'\n",
    "param_list = range(30, 80, 1)\n",
    "\n",
    "param2_label = 'max_depth'\n",
    "param2_list = [6, 7, 8, 9,10,11,12,13,14]\n",
    "\n",
    "error_rate = {param_label: [] , param2_label: [], 'rmse': [], 'mape_pct': []}\n",
    "tic = time.time()\n",
    "for param in tqdm_notebook(param_list):\n",
    "#     print(\"param = \" + str(param))\n",
    "    \n",
    "    for param2 in param2_list:\n",
    "        # Train, predict and eval model\n",
    "        rmse, mape, _ = train_pred_eval_model(X_train_scaled, \n",
    "                                     y_train_scaled, \n",
    "                                     X_cv_scaled, \n",
    "                                     y_cv, \n",
    "                                     cv['wheatPrice_mean3'],\n",
    "                                     cv['wheatPrice_std3'],\n",
    "                                     seed=model_seed,\n",
    "                                     n_estimators=param, \n",
    "                                     max_depth=param2, \n",
    "                                     learning_rate=learning_rate, \n",
    "                                     min_child_weight=min_child_weight, \n",
    "                                     subsample=subsample, \n",
    "                                     colsample_bytree=colsample_bytree, \n",
    "                                     colsample_bylevel=colsample_bylevel, \n",
    "                                     gamma=gamma)\n",
    "    \n",
    "        # Collect results\n",
    "        error_rate[param_label].append(param)\n",
    "        error_rate[param2_label].append(param2)\n",
    "        error_rate['rmse'].append(rmse)\n",
    "        error_rate['mape_pct'].append(mape)\n",
    "    \n",
    "error_rate = pd.DataFrame(error_rate)\n",
    "toc = time.time()\n",
    "print(\"Minutes taken = \" + str((toc-tic)/60.0))\n",
    "error_rate   "
   ]
  },
  {
   "cell_type": "code",
   "execution_count": null,
   "metadata": {},
   "outputs": [],
   "source": [
    "# Plot performance versus params\n",
    "rcParams['figure.figsize'] = 10, 8 # width 10, height 8\n",
    "temp = error_rate[error_rate[param2_label]==param2_list[0]]\n",
    "ax = temp.plot(x=param_label, y='rmse', style='bs-', grid=True)\n",
    "legend_list = [param2_label + '_' + str(param2_list[0])]\n",
    "\n",
    "color_list = ['r', 'g', 'k', 'y', 'm', 'c', '0.75']\n",
    "for i in range(1,len(param2_list)):\n",
    "    temp = error_rate[error_rate[param2_label]==param2_list[i]]\n",
    "    ax = temp.plot(x=param_label, y='rmse', color=color_list[i%len(color_list)], marker='s', grid=True, ax=ax)\n",
    "    legend_list.append(param2_label + '_' + str(param2_list[i]))\n",
    "\n",
    "ax.set_xlabel(param_label)\n",
    "ax.set_ylabel(\"RMSE\")\n",
    "plt.rcParams.update({'font.size': 14})\n",
    "plt.legend(legend_list, loc='center left', bbox_to_anchor=(1.0, 0.5)) # positions legend outside figure"
   ]
  },
  {
   "cell_type": "code",
   "execution_count": null,
   "metadata": {},
   "outputs": [],
   "source": [
    "# Get optimum value for param and param2\n",
    "temp = error_rate[error_rate['rmse'] == error_rate['rmse'].min()]\n",
    "n_estimators_opt = temp['n_estimators'].values[0]\n",
    "max_depth_opt = temp['max_depth'].values[0]\n",
    "print(\"min RMSE = %0.3f\" % error_rate['rmse'].min())\n",
    "print(\"optimum params = \")\n",
    "n_estimators_opt, max_depth_opt"
   ]
  },
  {
   "cell_type": "code",
   "execution_count": null,
   "metadata": {},
   "outputs": [],
   "source": [
    "# Get optimum value for param and param2, using MAPE\n",
    "temp = error_rate[error_rate['mape_pct'] == error_rate['mape_pct'].min()]\n",
    "print(\"min MAPE = %0.3f%%\" % error_rate['mape_pct'].min())\n",
    "print(\"optimum params = \")\n",
    "temp['n_estimators'].values[0], temp['max_depth'].values[0]"
   ]
  },
  {
   "cell_type": "code",
   "execution_count": null,
   "metadata": {
    "scrolled": true
   },
   "outputs": [],
   "source": [
    "param_label = 'learning_rate'\n",
    "param_list = [0.005, 0.01, 0.05, 0.1, 0.2, 0.3,0.35,0.4,0.45,0.5,0.55,0.6,0.7,0.8,0.9,1]\n",
    "\n",
    "param2_label = 'min_child_weight'\n",
    "param2_list = range(10, 41, 1)\n",
    "\n",
    "error_rate = {param_label: [] , param2_label: [], 'rmse': [], 'mape_pct': []}\n",
    "tic = time.time()\n",
    "for param in tqdm_notebook(param_list):\n",
    "#     print(\"param = \" + str(param))\n",
    "    \n",
    "    for param2 in param2_list:\n",
    "        # Train, predict and eval model\n",
    "        rmse, mape, _ = train_pred_eval_model(X_train_scaled, \n",
    "                                     y_train_scaled, \n",
    "                                     X_cv_scaled, \n",
    "                                     y_cv, \n",
    "                                     cv['wheatPrice_mean3'],\n",
    "                                     cv['wheatPrice_std3'],\n",
    "                                     seed=model_seed,\n",
    "                                     n_estimators=n_estimators_opt, \n",
    "                                     max_depth=max_depth_opt, \n",
    "                                     learning_rate=param, \n",
    "                                     min_child_weight=param2, \n",
    "                                     subsample=subsample, \n",
    "                                     colsample_bytree=colsample_bytree, \n",
    "                                     colsample_bylevel=colsample_bylevel, \n",
    "                                     gamma=gamma)\n",
    "    \n",
    "        # Collect results\n",
    "        error_rate[param_label].append(param)\n",
    "        error_rate[param2_label].append(param2)\n",
    "        error_rate['rmse'].append(rmse)\n",
    "        error_rate['mape_pct'].append(mape)\n",
    "    \n",
    "error_rate = pd.DataFrame(error_rate)\n",
    "toc = time.time()\n",
    "print(\"Minutes taken = \" + str((toc-tic)/60.0))\n",
    "error_rate   "
   ]
  },
  {
   "cell_type": "code",
   "execution_count": null,
   "metadata": {},
   "outputs": [],
   "source": [
    "# Plot performance versus params\n",
    "rcParams['figure.figsize'] = 10, 8 # width 10, height 8\n",
    "temp = error_rate[error_rate[param2_label]==param2_list[0]]\n",
    "ax = temp.plot(x=param_label, y='rmse', style='bs-', grid=True)\n",
    "legend_list = [param2_label + '_' + str(param2_list[0])]\n",
    "\n",
    "color_list = ['r', 'g', 'k', 'y', 'm', 'c', '0.75']\n",
    "for i in range(1,len(param2_list)):\n",
    "    temp = error_rate[error_rate[param2_label]==param2_list[i]]\n",
    "    ax = temp.plot(x=param_label, y='rmse', color=color_list[i%len(color_list)], marker='s', grid=True, ax=ax)\n",
    "    legend_list.append(param2_label + '_' + str(param2_list[i]))\n",
    "\n",
    "ax.set_xlabel(param_label)\n",
    "ax.set_ylabel(\"RMSE\")\n",
    "plt.rcParams.update({'font.size': 14})\n",
    "plt.legend(legend_list, loc='center left', bbox_to_anchor=(1.0, 0.5)) # positions legend outside figure"
   ]
  },
  {
   "cell_type": "code",
   "execution_count": null,
   "metadata": {},
   "outputs": [],
   "source": [
    "# Get optimum value for param and param2\n",
    "temp = error_rate[error_rate['rmse'] == error_rate['rmse'].min()]\n",
    "learning_rate_opt = temp['learning_rate'].values[0]\n",
    "min_child_weight_opt = temp['min_child_weight'].values[0]\n",
    "print(\"min RMSE = %0.3f\" % error_rate['rmse'].min())\n",
    "print(\"optimum params = \")\n",
    "learning_rate_opt, min_child_weight_opt"
   ]
  },
  {
   "cell_type": "code",
   "execution_count": null,
   "metadata": {},
   "outputs": [],
   "source": [
    "# Get optimum value for param and param2, using MAPE\n",
    "# We will use RMSE to decide the final optimum params to use\n",
    "temp = error_rate[error_rate['mape_pct'] == error_rate['mape_pct'].min()]\n",
    "print(\"min MAPE = %0.3f%%\" % error_rate['mape_pct'].min())\n",
    "print(\"optimum params = \")\n",
    "temp['learning_rate'].values[0], temp['min_child_weight'].values[0]"
   ]
  },
  {
   "cell_type": "code",
   "execution_count": null,
   "metadata": {},
   "outputs": [],
   "source": [
    "param_label = 'subsample'\n",
    "param_list = [0.1, 0.2, 0.3, 0.4, 0.5, 0.6, 0.7, 0.8, 0.9, 1]\n",
    "\n",
    "param2_label = 'gamma'\n",
    "param2_list = [0.1, 0.2, 0.3, 0.4, 0.5, 0.6, 0.7, 0.8, 0.9, 1]\n",
    "\n",
    "error_rate = {param_label: [] , param2_label: [], 'rmse': [], 'mape_pct': []}\n",
    "tic = time.time()\n",
    "for param in tqdm_notebook(param_list):\n",
    "#     print(\"param = \" + str(param))\n",
    "    \n",
    "    for param2 in param2_list:\n",
    "        # Train, predict and eval model\n",
    "        rmse, mape, _ = train_pred_eval_model(X_train_scaled, \n",
    "                                     y_train_scaled, \n",
    "                                     X_cv_scaled, \n",
    "                                     y_cv, \n",
    "                                     cv['wheatPrice_mean3'],\n",
    "                                     cv['wheatPrice_std3'],\n",
    "                                     seed=model_seed,\n",
    "                                     n_estimators=n_estimators_opt, \n",
    "                                     max_depth=max_depth_opt, \n",
    "                                     learning_rate=learning_rate_opt, \n",
    "                                     min_child_weight=min_child_weight_opt, \n",
    "                                     subsample=param, \n",
    "                                     colsample_bytree=colsample_bytree, \n",
    "                                     colsample_bylevel=colsample_bylevel, \n",
    "                                     gamma=param2)\n",
    "    \n",
    "        # Collect results\n",
    "        error_rate[param_label].append(param)\n",
    "        error_rate[param2_label].append(param2)\n",
    "        error_rate['rmse'].append(rmse)\n",
    "        error_rate['mape_pct'].append(mape)\n",
    "    \n",
    "error_rate = pd.DataFrame(error_rate)\n",
    "toc = time.time()\n",
    "print(\"Minutes taken = \" + str((toc-tic)/60.0))\n",
    "error_rate   "
   ]
  },
  {
   "cell_type": "code",
   "execution_count": null,
   "metadata": {},
   "outputs": [],
   "source": [
    "# Plot performance versus params\n",
    "rcParams['figure.figsize'] = 10, 8 # width 10, height 8\n",
    "temp = error_rate[error_rate[param2_label]==param2_list[0]]\n",
    "ax = temp.plot(x=param_label, y='rmse', style='bs-', grid=True)\n",
    "legend_list = [param2_label + '_' + str(param2_list[0])]\n",
    "\n",
    "color_list = ['r', 'g', 'k', 'y', 'm', 'c', '0.75']\n",
    "for i in range(1,len(param2_list)):\n",
    "    temp = error_rate[error_rate[param2_label]==param2_list[i]]\n",
    "    ax = temp.plot(x=param_label, y='rmse', color=color_list[i%len(color_list)], marker='s', grid=True, ax=ax)\n",
    "    legend_list.append(param2_label + '_' + str(param2_list[i]))\n",
    "\n",
    "ax.set_xlabel(param_label)\n",
    "ax.set_ylabel(\"RMSE\")\n",
    "plt.rcParams.update({'font.size': 14})\n",
    "plt.legend(legend_list, loc='center left', bbox_to_anchor=(1.0, 0.5)) # positions legend outside figure"
   ]
  },
  {
   "cell_type": "code",
   "execution_count": null,
   "metadata": {},
   "outputs": [],
   "source": [
    "# Get optimum value for param and param2\n",
    "temp = error_rate[error_rate['rmse'] == error_rate['rmse'].min()]\n",
    "subsample_opt = temp['subsample'].values[0]\n",
    "gamma_opt = temp['gamma'].values[0]\n",
    "print(\"min RMSE = %0.3f\" % error_rate['rmse'].min())\n",
    "print(\"optimum params = \")\n",
    "subsample_opt, gamma_opt"
   ]
  },
  {
   "cell_type": "code",
   "execution_count": null,
   "metadata": {},
   "outputs": [],
   "source": [
    "# Get optimum value for param and param2, using MAPE\n",
    "# We will use RMSE to decide the final optimum params to use\n",
    "temp = error_rate[error_rate['mape_pct'] == error_rate['mape_pct'].min()]\n",
    "print(\"min MAPE = %0.3f%%\" % error_rate['mape_pct'].min())\n",
    "print(\"optimum params = \")\n",
    "temp['subsample'].values[0], temp['gamma'].values[0]"
   ]
  },
  {
   "cell_type": "code",
   "execution_count": null,
   "metadata": {
    "scrolled": true
   },
   "outputs": [],
   "source": [
    "param_label = 'colsample_bytree'\n",
    "param_list = [0.5, 0.6, 0.7, 0.8, 0.9, 1]\n",
    "\n",
    "param2_label = 'colsample_bylevel'\n",
    "param2_list = [0.5, 0.6, 0.7, 0.8, 0.9, 1]\n",
    "\n",
    "error_rate = {param_label: [] , param2_label: [], 'rmse': [], 'mape_pct': []}\n",
    "tic = time.time()\n",
    "for param in tqdm_notebook(param_list):\n",
    "#     print(\"param = \" + str(param))\n",
    "    \n",
    "    for param2 in param2_list:\n",
    "        # Train, predict and eval model\n",
    "        rmse, mape, _ = train_pred_eval_model(X_train_scaled, \n",
    "                                     y_train_scaled, \n",
    "                                     X_cv_scaled, \n",
    "                                     y_cv, \n",
    "                                     cv['wheatPrice_mean3'],\n",
    "                                     cv['wheatPrice_std3'],\n",
    "                                     seed=model_seed,\n",
    "                                     n_estimators=n_estimators_opt, \n",
    "                                     max_depth=max_depth_opt, \n",
    "                                     learning_rate=learning_rate_opt, \n",
    "                                     min_child_weight=min_child_weight_opt, \n",
    "                                     subsample=subsample_opt, \n",
    "                                     colsample_bytree=param, \n",
    "                                     colsample_bylevel=param2, \n",
    "                                     gamma=gamma_opt)\n",
    "    \n",
    "        # Collect results\n",
    "        error_rate[param_label].append(param)\n",
    "        error_rate[param2_label].append(param2)\n",
    "        error_rate['rmse'].append(rmse)\n",
    "        error_rate['mape_pct'].append(mape)\n",
    "    \n",
    "error_rate = pd.DataFrame(error_rate)\n",
    "toc = time.time()\n",
    "print(\"Minutes taken = \" + str((toc-tic)/60.0))\n",
    "error_rate   "
   ]
  },
  {
   "cell_type": "code",
   "execution_count": null,
   "metadata": {},
   "outputs": [],
   "source": [
    "d = {'param': ['n_estimators', 'max_depth', 'learning_rate', 'min_child_weight', 'subsample', 'gamma', 'rmse', 'mape_pct'],\n",
    "     'original': [n_estimators, max_depth, learning_rate, min_child_weight, subsample, gamma, rmse_bef_tuning, mape_bef_tuning],\n",
    "     'after_tuning': [n_estimators_opt, max_depth_opt, learning_rate_opt, min_child_weight_opt, subsample_opt, gamma_opt, error_rate['rmse'].min(), error_rate['mape_pct'].min()]}\n",
    "tuned_params = pd.DataFrame(d)\n",
    "tuned_params = tuned_params.round(3)\n",
    "tuned_params"
   ]
  },
  {
   "cell_type": "code",
   "execution_count": null,
   "metadata": {},
   "outputs": [],
   "source": [
    "# Create the model\n",
    "model = XGBRegressor(seed=model_seed,\n",
    "                             n_estimators=n_estimators, \n",
    "                             max_depth=max_depth_opt, \n",
    "                             learning_rate=learning_rate_opt, \n",
    "                             min_child_weight=min_child_weight_opt, \n",
    "                             subsample=subsample_opt, \n",
    "                             gamma=gamma_opt)\n",
    "\n",
    "# Train the regressor\n",
    "model.fit(X_train_scaled, y_train_scaled)\n",
    "# Do prediction on test set\n",
    "est_scaled = model.predict(X_cv_scaled)\n",
    "cv['est_scaled'] = est_scaled\n",
    "cv['est'] = cv['est_scaled'] * cv['wheatPrice_std3'] + cv['wheatPrice_mean3']\n",
    "\n",
    "# Calculate RMSE\n",
    "rmse_bef_tuning = math.sqrt(mean_squared_error(y_cv, cv['est']))\n",
    "print(\"RMSE on dev set = %0.3f\" % rmse_bef_tuning)\n",
    "\n",
    "# Calculate MAPE\n",
    "mape_bef_tuning = get_mape(y_cv, cv['est'])\n",
    "print(\"MAPE on dev set = %0.3f%%\" % mape_bef_tuning)\n",
    "# Plot adjusted close over time\n",
    "rcParams['figure.figsize'] = 10, 8 # width 10, height 8\n",
    "\n",
    "est_df = pd.DataFrame({'est': cv['est'], \n",
    "                       'y_cv': y_cv,\n",
    "                       'date': cv['date']})\n",
    "\n",
    "ax = train.plot(x='date', y='wheatPrice', style='b-', grid=True)\n",
    "ax = cv.plot(x='date', y='wheatPrice', style='y-', grid=True, ax=ax)\n",
    "ax = test.plot(x='date', y='wheatPrice', style='g-', grid=True, ax=ax)\n",
    "ax = est_df.plot(x='date', y='est', style='r-', grid=True, ax=ax)\n",
    "ax.legend(['train', 'dev', 'test', 'predictions'])\n",
    "ax.set_xlabel(\"date\")\n",
    "ax.set_ylabel(\"USD\")"
   ]
  },
  {
   "cell_type": "code",
   "execution_count": null,
   "metadata": {},
   "outputs": [],
   "source": [
    "rmse, mape, est = train_pred_eval_model(X_train_cv_scaled, \n",
    "                             y_train_cv_scaled, \n",
    "                             X_test_new, \n",
    "                             y_test_new, \n",
    "                             test['wheatPrice_mean3'].head(15),\n",
    "                             test['wheatPrice_std3'].head(15),          \n",
    "                             seed=model_seed,\n",
    "                             n_estimators=n_estimators, \n",
    "                             max_depth=max_depth_opt, \n",
    "                             learning_rate=learning_rate_opt, \n",
    "                             min_child_weight=min_child_weight_opt, \n",
    "                             subsample=subsample_opt, \n",
    "                             gamma=gamma_opt)\n",
    "\n",
    "# Calculate RMSE\n",
    "print(\"RMSE on test set = %0.3f\" % rmse)\n",
    "\n",
    "# Calculate MAPE\n",
    "print(\"MAPE on test set = %0.3f%%\" % mape)"
   ]
  },
  {
   "cell_type": "code",
   "execution_count": null,
   "metadata": {},
   "outputs": [],
   "source": [
    "# Plot adjusted close over time\n",
    "rcParams['figure.figsize'] = 10, 8 # width 10, height 8\n",
    "\n",
    "est_df = pd.DataFrame({'est': est, \n",
    "#                        'y_sample': y_sample,\n",
    "                       'y_sample': y_test_new,\n",
    "                       'date': test['date']})\n",
    "\n",
    "ax = train.plot(x='date', y='wheatPrice', style='b-', grid=True)\n",
    "ax = cv.plot(x='date', y='wheatPrice', style='y-', grid=True, ax=ax)\n",
    "ax = test.plot(x='date', y='wheatPrice', style='g-', grid=True, ax=ax)\n",
    "ax = est_df.plot(x='date', y='est', style='r-', grid=True, ax=ax)\n",
    "ax.legend(['train', 'dev', 'test', 'predictions'])\n",
    "ax.set_xlabel(\"date\")\n",
    "ax.set_ylabel(\"USD\")"
   ]
  },
  {
   "cell_type": "code",
   "execution_count": null,
   "metadata": {},
   "outputs": [],
   "source": [
    "# Plot adjusted close over time, for test set only\n",
    "rcParams['figure.figsize'] = 10, 8 # width 10, height 8\n",
    "ax = train.plot(x='date', y='wheatPrice', style='b-', grid=True)\n",
    "ax = cv.plot(x='date', y='wheatPrice', style='y-', grid=True, ax=ax)\n",
    "ax = test.plot(x='date', y='wheatPrice', style='g-', grid=True, ax=ax)\n",
    "ax = est_df.plot(x='date', y='est', style='r-', grid=True, ax=ax)\n",
    "ax.legend(['train', 'dev', 'test', 'predictions'])\n",
    "ax.set_xlabel(\"date\")\n",
    "ax.set_ylabel(\"USD\")\n",
    "ax.set_xlim([date(2017, 3, 1), date(2019, 5, 1)])\n",
    "ax.set_ylim([160, 250])\n",
    "ax.set_title(\"Zoom in to test set\")"
   ]
  },
  {
   "cell_type": "code",
   "execution_count": null,
   "metadata": {},
   "outputs": [],
   "source": [
    "# View a list of the features and their importance scores\n",
    "imp = list(zip(train[features], model.feature_importances_))\n",
    "imp.sort(key=lambda tup: tup[1]) \n",
    "imp[-10:]"
   ]
  },
  {
   "cell_type": "code",
   "execution_count": null,
   "metadata": {},
   "outputs": [],
   "source": [
    "# Plot adjusted close over time, only for test set\n",
    "rcParams['figure.figsize'] = 10, 8 # width 10, height 8\n",
    "plt.rcParams.update({'font.size': 14})\n",
    "\n",
    "ax = test.plot(x='date', y='wheatPrice', style='gx-', grid=True)\n",
    "ax = est_df.plot(x='date', y='est', style='rx-', grid=True, ax=ax)\n",
    "ax.legend(['test', 'predictions using xgboost'], loc='upper left')\n",
    "ax.set_xlabel(\"date\")\n",
    "ax.set_ylabel(\"USD\")\n",
    "ax.set_xlim([date(2017, 3, 1), date(2019, 5, 1)])"
   ]
  },
  {
   "cell_type": "code",
   "execution_count": null,
   "metadata": {},
   "outputs": [],
   "source": [
    "rmse,mape"
   ]
  },
  {
   "cell_type": "code",
   "execution_count": null,
   "metadata": {},
   "outputs": [],
   "source": [
    "from sklearn.linear_model import Lasso\n",
    "lasso_opt = Lasso(alpha =55 ,max_iter = 1000)\n",
    "lasso_opt.fit(X_train, y_train)\n",
    "est = lasso_opt.predict(X_sample)\n",
    "rmse = math.sqrt(mean_squared_error(y_sample, est))\n",
    "mape = get_mape(y_sample, est)\n",
    "rmse,mape"
   ]
  },
  {
   "cell_type": "code",
   "execution_count": null,
   "metadata": {},
   "outputs": [],
   "source": [
    "# Plot adjusted close over time\n",
    "rcParams['figure.figsize'] = 10, 8 # width 10, height 8\n",
    "\n",
    "est_df = pd.DataFrame({'est': est, \n",
    "                       'y_sample': y_sample,\n",
    "                       'date': test['date']})\n",
    "\n",
    "ax = train.plot(x='date', y='wheatPrice', style='b-', grid=True)\n",
    "ax = cv.plot(x='date', y='wheatPrice', style='y-', grid=True, ax=ax)\n",
    "ax = test.plot(x='date', y='wheatPrice', style='g-', grid=True, ax=ax)\n",
    "ax = est_df.plot(x='date', y='est', style='r-', grid=True, ax=ax)\n",
    "ax.legend(['train', 'dev', 'test', 'predictions'])\n",
    "ax.set_xlabel(\"date\")\n",
    "ax.set_ylabel(\"USD\")"
   ]
  },
  {
   "cell_type": "code",
   "execution_count": null,
   "metadata": {},
   "outputs": [],
   "source": [
    "# Plot adjusted close over time, only for test set\n",
    "rcParams['figure.figsize'] = 10, 8 # width 10, height 8\n",
    "plt.rcParams.update({'font.size': 14})\n",
    "\n",
    "ax = test.plot(x='date', y='wheatPrice', style='gx-', grid=True)\n",
    "ax = est_df.plot(x='date', y='est', style='rx-', grid=True, ax=ax)\n",
    "ax.legend(['test', 'predictions using lasso'], loc='upper left')\n",
    "ax.set_xlabel(\"date\")\n",
    "ax.set_ylabel(\"USD\")\n",
    "ax.set_xlim([date(2017, 3, 1), date(2019, 5, 1)])"
   ]
  },
  {
   "cell_type": "code",
   "execution_count": null,
   "metadata": {},
   "outputs": [],
   "source": [
    "from sklearn.linear_model import Lasso\n",
    "lasso_opt = Lasso(alpha =55 ,max_iter = 1000)\n",
    "lasso_opt.fit(X_train, y_train)\n",
    "est = lasso_opt.predict(X_cv)\n",
    "rmse = math.sqrt(mean_squared_error(y_cv, est))\n",
    "mape = get_mape(y_cv, est)\n",
    "rmse,mape"
   ]
  },
  {
   "cell_type": "code",
   "execution_count": null,
   "metadata": {},
   "outputs": [],
   "source": [
    "# Plot adjusted close over time\n",
    "rcParams['figure.figsize'] = 10, 8 # width 10, height 8\n",
    "\n",
    "est_df = pd.DataFrame({'est': est, \n",
    "                       'y_cv': y_cv,\n",
    "                       'date': cv['date']})\n",
    "\n",
    "ax = train.plot(x='date', y='wheatPrice', style='b-', grid=True)\n",
    "ax = cv.plot(x='date', y='wheatPrice', style='y-', grid=True, ax=ax)\n",
    "ax = test.plot(x='date', y='wheatPrice', style='g-', grid=True, ax=ax)\n",
    "ax = est_df.plot(x='date', y='est', style='r-', grid=True, ax=ax)\n",
    "ax.legend(['train', 'dev', 'test', 'predictions'])\n",
    "ax.set_xlabel(\"date\")\n",
    "ax.set_ylabel(\"USD\")"
   ]
  },
  {
   "cell_type": "code",
   "execution_count": null,
   "metadata": {},
   "outputs": [],
   "source": [
    "# Plot adjusted close over time, only for test set\n",
    "rcParams['figure.figsize'] = 10, 8 # width 10, height 8\n",
    "plt.rcParams.update({'font.size': 14})\n",
    "\n",
    "ax = cv.plot(x='date', y='wheatPrice', style='yx-', grid=True)\n",
    "ax = est_df.plot(x='date', y='est', style='rx-', grid=True, ax=ax)\n",
    "ax.legend(['cv', 'predictions using lasso'], loc='upper left')\n",
    "ax.set_xlabel(\"date\")\n",
    "ax.set_ylabel(\"USD\")\n",
    "ax.set_xlim([date(2015, 3, 1), date(2017, 7, 1)])"
   ]
  },
  {
   "cell_type": "code",
   "execution_count": null,
   "metadata": {},
   "outputs": [],
   "source": [
    "from sklearn.linear_model import ElasticNet\n",
    "regr = ElasticNet(random_state=0)\n",
    "regr.fit(X_train, y_train)\n",
    "est = regr.predict(X_sample)\n",
    "rmse = math.sqrt(mean_squared_error(y_sample, est))\n",
    "mape = get_mape(y_sample, est)\n",
    "rmse,mape"
   ]
  },
  {
   "cell_type": "code",
   "execution_count": null,
   "metadata": {},
   "outputs": [],
   "source": [
    "# Plot adjusted close over time\n",
    "rcParams['figure.figsize'] = 10, 8 # width 10, height 8\n",
    "fig, (ax1, ax2) = plt.subplots(2,1)\n",
    "est_df = pd.DataFrame({'est': est, \n",
    "                       'y_sample': y_sample,\n",
    "                       'date': test['date']})\n",
    "\n",
    "ax1 = train.plot(x='date', y='wheatPrice', style='b-', grid=True ,ax=ax1)\n",
    "ax1 = cv.plot(x='date', y='wheatPrice', style='y-', grid=True, ax=ax1)\n",
    "ax1 = test.plot(x='date', y='wheatPrice', style='g-', grid=True, ax=ax1)\n",
    "ax1 = est_df.plot(x='date', y='est', style='r-', grid=True, ax=ax1)\n",
    "ax1.legend(['train', 'dev', 'test', 'predictions'])\n",
    "ax1.set_xlabel(\"date\")\n",
    "ax1.set_ylabel(\"USD\")\n",
    "\n",
    "rcParams['figure.figsize'] = 10, 8 # width 10, height 8\n",
    "plt.rcParams.update({'font.size': 14})\n",
    "\n",
    "ax2 = test.plot(x='date', y='wheatPrice', style='gx-', grid=True, ax=ax2)\n",
    "ax2 = est_df.plot(x='date', y='est', style='rx-', grid=True, ax=ax2)\n",
    "ax2.legend(['test', 'predictions using lasso'], loc='upper left')\n",
    "ax2.set_xlabel(\"date\")\n",
    "ax2.set_ylabel(\"USD\")\n",
    "ax2.set_xlim([date(2017, 3, 1), date(2019, 5, 1)])\n",
    "\n"
   ]
  },
  {
   "cell_type": "code",
   "execution_count": null,
   "metadata": {},
   "outputs": [],
   "source": [
    "def train_pred_eval_model(X_train_scaled, \\\n",
    "                          y_train_scaled, \\\n",
    "                          X_test_scaled, \\\n",
    "                          y_test, \\\n",
    "                          col_mean, \\\n",
    "                          col_std, \\\n",
    "                          alpha=1, \\\n",
    "                          max_iter=1000, \\\n",
    "                          l1_ratio=0.5):\n",
    "    '''\n",
    "    Train model, do prediction, scale back to original range and do evaluation\n",
    "    Use XGBoost here.\n",
    "    Inputs\n",
    "        X_train_scaled     : features for training. Scaled to have mean 0 and variance 1\n",
    "        y_train_scaled     : target for training. Scaled to have mean 0 and variance 1\n",
    "        X_test_scaled      : features for test. Each sample is scaled to mean 0 and variance 1\n",
    "        y_test             : target for test. Actual values, not scaled.\n",
    "        col_mean           : means used to scale each sample of X_test_scaled. Same length as X_test_scaled and y_test\n",
    "        col_std            : standard deviations used to scale each sample of X_test_scaled. Same length as X_test_scaled and y_test\n",
    "        seed               : model seed\n",
    "        n_estimators       : number of boosted trees to fit\n",
    "        max_depth          : maximum tree depth for base learners\n",
    "        learning_rate      : boosting learning rate (xgb’s “eta”)\n",
    "        min_child_weight   : minimum sum of instance weight(hessian) needed in a child\n",
    "        subsample          : subsample ratio of the training instance\n",
    "        colsample_bytree   : subsample ratio of columns when constructing each tree\n",
    "        colsample_bylevel  : subsample ratio of columns for each split, in each level\n",
    "        gamma              : \n",
    "    Outputs\n",
    "        rmse               : root mean square error of y_test and est\n",
    "        mape               : mean absolute percentage error of y_test and est\n",
    "        est                : predicted values. Same length as y_test\n",
    "    '''\n",
    "\n",
    "    model = ElasticNet(alpha=alpha,l1_ratio=l1_ratio,max_iter=max_iter,random_state=0)\n",
    "    \n",
    "    # Train the model\n",
    "    model.fit(X_train_scaled, y_train_scaled)\n",
    "    \n",
    "    # Get predicted labels and scale back to original range\n",
    "    est_scaled = model.predict(X_test_scaled)\n",
    "    est = est_scaled * col_std + col_mean\n",
    "\n",
    "    # Calculate RMSE\n",
    "    rmse = math.sqrt(mean_squared_error(y_test, est))\n",
    "    mape = get_mape(y_test, est)\n",
    "    \n",
    "    return rmse, mape, est"
   ]
  },
  {
   "cell_type": "code",
   "execution_count": null,
   "metadata": {},
   "outputs": [],
   "source": [
    "param_label = 'alpha'\n",
    "param_list = [0.1,0.2,0.3,0.4,0.5,0.6,0.7,0.8,0.9,1]\n",
    "\n",
    "param2_label = 'l1_ratio'\n",
    "param2_list = [0.1,0.2,0.3,0.4,0.5,0.6,0.7,0.8,0.9,1]\n",
    "\n",
    "\n",
    "\n",
    "error_rate = {param_label: [] , param2_label: [], 'rmse': [], 'mape_pct': []}\n",
    "tic = time.time()\n",
    "for param in tqdm_notebook(param_list):\n",
    "#     print(\"param = \" + str(param))\n",
    "    \n",
    "    for param2 in param2_list:\n",
    "        # Train, predict and eval model\n",
    "        rmse, mape, _ = train_pred_eval_model(X_train_scaled, \n",
    "                                     y_train_scaled, \n",
    "                                     X_cv_scaled, \n",
    "                                     y_cv, \n",
    "                                     cv['Price_mean'],\n",
    "                                     cv['Price_std'],\n",
    "                                     alpha=param, \n",
    "                                     l1_ratio=param2)\n",
    "    \n",
    "        # Collect results\n",
    "        error_rate[param_label].append(param)\n",
    "        error_rate[param2_label].append(param2)\n",
    "        error_rate['rmse'].append(rmse)\n",
    "        error_rate['mape_pct'].append(mape)\n",
    "    \n",
    "error_rate = pd.DataFrame(error_rate)\n",
    "toc = time.time()\n",
    "print(\"Minutes taken = \" + str((toc-tic)/60.0))\n",
    "error_rate   "
   ]
  },
  {
   "cell_type": "code",
   "execution_count": null,
   "metadata": {},
   "outputs": [],
   "source": [
    "# Plot performance versus params\n",
    "rcParams['figure.figsize'] = 10, 8 # width 10, height 8\n",
    "temp = error_rate[error_rate[param2_label]==param2_list[0]]\n",
    "ax = temp.plot(x=param_label, y='rmse', style='bs-', grid=True)\n",
    "legend_list = [param2_label + '_' + str(param2_list[0])]\n",
    "\n",
    "color_list = ['r', 'g', 'k', 'y', 'm', 'c', '0.75']\n",
    "for i in range(1,len(param2_list)):\n",
    "    temp = error_rate[error_rate[param2_label]==param2_list[i]]\n",
    "    ax = temp.plot(x=param_label, y='rmse', color=color_list[i%len(color_list)], marker='s', grid=True, ax=ax)\n",
    "    legend_list.append(param2_label + '_' + str(param2_list[i]))\n",
    "\n",
    "ax.set_xlabel(param_label)\n",
    "ax.set_ylabel(\"RMSE\")\n",
    "plt.rcParams.update({'font.size': 14})\n",
    "plt.legend(legend_list, loc='center left', bbox_to_anchor=(1.0, 0.5)) # positions legend outside figure"
   ]
  },
  {
   "cell_type": "code",
   "execution_count": null,
   "metadata": {},
   "outputs": [],
   "source": [
    "rmse, mape, _ = train_pred_eval_model(X_train_scaled, \n",
    "                                     y_train_scaled, \n",
    "                                     X_cv_scaled, \n",
    "                                     y_cv, \n",
    "                                     cv['Price_mean'],\n",
    "                                     cv['Price_std'],\n",
    "                                     alpha=1, \n",
    "                                     max_iter=1000,\n",
    "                                     l1_ratio=1)\n",
    "rmse, mape"
   ]
  },
  {
   "cell_type": "code",
   "execution_count": null,
   "metadata": {},
   "outputs": [],
   "source": []
  }
 ],
 "metadata": {
  "kernelspec": {
   "display_name": "Python 3",
   "language": "python",
   "name": "python3"
  },
  "language_info": {
   "codemirror_mode": {
    "name": "ipython",
    "version": 3
   },
   "file_extension": ".py",
   "mimetype": "text/x-python",
   "name": "python",
   "nbconvert_exporter": "python",
   "pygments_lexer": "ipython3",
   "version": "3.7.3"
  }
 },
 "nbformat": 4,
 "nbformat_minor": 2
}
